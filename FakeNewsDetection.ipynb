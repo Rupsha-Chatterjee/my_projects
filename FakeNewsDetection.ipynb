{
  "nbformat": 4,
  "nbformat_minor": 0,
  "metadata": {
    "colab": {
      "provenance": [],
      "mount_file_id": "1MCFfgVIJ9Qk5pH6KU2JMao4Tzi26AHq9",
      "authorship_tag": "ABX9TyMyzl2KxWra3x8tWxZ8U2NC",
      "include_colab_link": true
    },
    "kernelspec": {
      "name": "python3",
      "display_name": "Python 3"
    },
    "language_info": {
      "name": "python"
    }
  },
  "cells": [
    {
      "cell_type": "markdown",
      "metadata": {
        "id": "view-in-github",
        "colab_type": "text"
      },
      "source": [
        "<a href=\"https://colab.research.google.com/github/Rupsha-Chatterjee/my_projects/blob/main/FakeNewsDetection.ipynb\" target=\"_parent\"><img src=\"https://colab.research.google.com/assets/colab-badge.svg\" alt=\"Open In Colab\"/></a>"
      ]
    },
    {
      "cell_type": "markdown",
      "source": [
        "## **What is Fake News?**\n",
        "\n",
        "The fundamental definition of fake news is information that leads people wrong. Nowadays, fake news spreads like wildfire, and people share it without confirming it. This is frequently done to advance or enforce specific beliefs and is frequently accomplished through political agendas.\n",
        "\n",
        "The ability to draw users to media organizations' websites is required to create online advertising revenue. As a result, it is vital to recognize fake news."
      ],
      "metadata": {
        "id": "DzrbvzoYzw4i"
      }
    },
    {
      "cell_type": "markdown",
      "source": [
        "## **Step 1: Importing Libraries.**"
      ],
      "metadata": {
        "id": "OkaFKdgN08lz"
      }
    },
    {
      "cell_type": "code",
      "execution_count": 1,
      "metadata": {
        "id": "kyWrc92WzTCp"
      },
      "outputs": [],
      "source": [
        "import pandas as pd  ## offers quick, adaptable, and expressive data structures\n",
        "import numpy as np  ## used to manipulate arrays\n",
        "import seaborn as sns  ## uses Matplotlib as its foundation to plot graphs and is used to see random distributions\n",
        "import matplotlib.pyplot as plt  ## a graphing library used for integrating charts\n",
        "from sklearn.model_selection import train_test_split  ## compare the output of our own machine-learning model to that of other machines\n",
        "from sklearn.metrics import accuracy_score\n",
        "from sklearn.metrics import classification_report  ## used to assess the accuracy of a classification algorithm's predictions. How many predictions are correct and how many are incorrect?\n",
        "import re  ## used to determine whether a given text fits a given regular expression\n",
        "import string"
      ]
    },
    {
      "cell_type": "markdown",
      "source": [
        "## **Step 2: Importing the Dataset**"
      ],
      "metadata": {
        "id": "6_rNss103poz"
      }
    },
    {
      "cell_type": "code",
      "source": [
        "data_fake = pd.read_csv('/content/drive/MyDrive/Fake news Detection Dataset/Fake.csv')\n",
        "data_true = pd.read_csv('/content/drive/MyDrive/Fake news Detection Dataset/True.csv')"
      ],
      "metadata": {
        "id": "1bG_PTMt3u8C"
      },
      "execution_count": 2,
      "outputs": []
    },
    {
      "cell_type": "code",
      "source": [
        "data_fake.head()"
      ],
      "metadata": {
        "colab": {
          "base_uri": "https://localhost:8080/",
          "height": 206
        },
        "id": "aDq_YzDP6ICU",
        "outputId": "a7e072ee-ab2d-4a48-a3bb-ec36246cc423"
      },
      "execution_count": 3,
      "outputs": [
        {
          "output_type": "execute_result",
          "data": {
            "text/plain": [
              "                                               title  \\\n",
              "0   Donald Trump Sends Out Embarrassing New Year’...   \n",
              "1   Drunk Bragging Trump Staffer Started Russian ...   \n",
              "2   Sheriff David Clarke Becomes An Internet Joke...   \n",
              "3   Trump Is So Obsessed He Even Has Obama’s Name...   \n",
              "4   Pope Francis Just Called Out Donald Trump Dur...   \n",
              "\n",
              "                                                text subject  \\\n",
              "0  Donald Trump just couldn t wish all Americans ...    News   \n",
              "1  House Intelligence Committee Chairman Devin Nu...    News   \n",
              "2  On Friday, it was revealed that former Milwauk...    News   \n",
              "3  On Christmas day, Donald Trump announced that ...    News   \n",
              "4  Pope Francis used his annual Christmas Day mes...    News   \n",
              "\n",
              "                date  \n",
              "0  December 31, 2017  \n",
              "1  December 31, 2017  \n",
              "2  December 30, 2017  \n",
              "3  December 29, 2017  \n",
              "4  December 25, 2017  "
            ],
            "text/html": [
              "\n",
              "  <div id=\"df-5fb93181-7729-4068-8e2f-7e258911a4ab\" class=\"colab-df-container\">\n",
              "    <div>\n",
              "<style scoped>\n",
              "    .dataframe tbody tr th:only-of-type {\n",
              "        vertical-align: middle;\n",
              "    }\n",
              "\n",
              "    .dataframe tbody tr th {\n",
              "        vertical-align: top;\n",
              "    }\n",
              "\n",
              "    .dataframe thead th {\n",
              "        text-align: right;\n",
              "    }\n",
              "</style>\n",
              "<table border=\"1\" class=\"dataframe\">\n",
              "  <thead>\n",
              "    <tr style=\"text-align: right;\">\n",
              "      <th></th>\n",
              "      <th>title</th>\n",
              "      <th>text</th>\n",
              "      <th>subject</th>\n",
              "      <th>date</th>\n",
              "    </tr>\n",
              "  </thead>\n",
              "  <tbody>\n",
              "    <tr>\n",
              "      <th>0</th>\n",
              "      <td>Donald Trump Sends Out Embarrassing New Year’...</td>\n",
              "      <td>Donald Trump just couldn t wish all Americans ...</td>\n",
              "      <td>News</td>\n",
              "      <td>December 31, 2017</td>\n",
              "    </tr>\n",
              "    <tr>\n",
              "      <th>1</th>\n",
              "      <td>Drunk Bragging Trump Staffer Started Russian ...</td>\n",
              "      <td>House Intelligence Committee Chairman Devin Nu...</td>\n",
              "      <td>News</td>\n",
              "      <td>December 31, 2017</td>\n",
              "    </tr>\n",
              "    <tr>\n",
              "      <th>2</th>\n",
              "      <td>Sheriff David Clarke Becomes An Internet Joke...</td>\n",
              "      <td>On Friday, it was revealed that former Milwauk...</td>\n",
              "      <td>News</td>\n",
              "      <td>December 30, 2017</td>\n",
              "    </tr>\n",
              "    <tr>\n",
              "      <th>3</th>\n",
              "      <td>Trump Is So Obsessed He Even Has Obama’s Name...</td>\n",
              "      <td>On Christmas day, Donald Trump announced that ...</td>\n",
              "      <td>News</td>\n",
              "      <td>December 29, 2017</td>\n",
              "    </tr>\n",
              "    <tr>\n",
              "      <th>4</th>\n",
              "      <td>Pope Francis Just Called Out Donald Trump Dur...</td>\n",
              "      <td>Pope Francis used his annual Christmas Day mes...</td>\n",
              "      <td>News</td>\n",
              "      <td>December 25, 2017</td>\n",
              "    </tr>\n",
              "  </tbody>\n",
              "</table>\n",
              "</div>\n",
              "    <div class=\"colab-df-buttons\">\n",
              "\n",
              "  <div class=\"colab-df-container\">\n",
              "    <button class=\"colab-df-convert\" onclick=\"convertToInteractive('df-5fb93181-7729-4068-8e2f-7e258911a4ab')\"\n",
              "            title=\"Convert this dataframe to an interactive table.\"\n",
              "            style=\"display:none;\">\n",
              "\n",
              "  <svg xmlns=\"http://www.w3.org/2000/svg\" height=\"24px\" viewBox=\"0 -960 960 960\">\n",
              "    <path d=\"M120-120v-720h720v720H120Zm60-500h600v-160H180v160Zm220 220h160v-160H400v160Zm0 220h160v-160H400v160ZM180-400h160v-160H180v160Zm440 0h160v-160H620v160ZM180-180h160v-160H180v160Zm440 0h160v-160H620v160Z\"/>\n",
              "  </svg>\n",
              "    </button>\n",
              "\n",
              "  <style>\n",
              "    .colab-df-container {\n",
              "      display:flex;\n",
              "      gap: 12px;\n",
              "    }\n",
              "\n",
              "    .colab-df-convert {\n",
              "      background-color: #E8F0FE;\n",
              "      border: none;\n",
              "      border-radius: 50%;\n",
              "      cursor: pointer;\n",
              "      display: none;\n",
              "      fill: #1967D2;\n",
              "      height: 32px;\n",
              "      padding: 0 0 0 0;\n",
              "      width: 32px;\n",
              "    }\n",
              "\n",
              "    .colab-df-convert:hover {\n",
              "      background-color: #E2EBFA;\n",
              "      box-shadow: 0px 1px 2px rgba(60, 64, 67, 0.3), 0px 1px 3px 1px rgba(60, 64, 67, 0.15);\n",
              "      fill: #174EA6;\n",
              "    }\n",
              "\n",
              "    .colab-df-buttons div {\n",
              "      margin-bottom: 4px;\n",
              "    }\n",
              "\n",
              "    [theme=dark] .colab-df-convert {\n",
              "      background-color: #3B4455;\n",
              "      fill: #D2E3FC;\n",
              "    }\n",
              "\n",
              "    [theme=dark] .colab-df-convert:hover {\n",
              "      background-color: #434B5C;\n",
              "      box-shadow: 0px 1px 3px 1px rgba(0, 0, 0, 0.15);\n",
              "      filter: drop-shadow(0px 1px 2px rgba(0, 0, 0, 0.3));\n",
              "      fill: #FFFFFF;\n",
              "    }\n",
              "  </style>\n",
              "\n",
              "    <script>\n",
              "      const buttonEl =\n",
              "        document.querySelector('#df-5fb93181-7729-4068-8e2f-7e258911a4ab button.colab-df-convert');\n",
              "      buttonEl.style.display =\n",
              "        google.colab.kernel.accessAllowed ? 'block' : 'none';\n",
              "\n",
              "      async function convertToInteractive(key) {\n",
              "        const element = document.querySelector('#df-5fb93181-7729-4068-8e2f-7e258911a4ab');\n",
              "        const dataTable =\n",
              "          await google.colab.kernel.invokeFunction('convertToInteractive',\n",
              "                                                    [key], {});\n",
              "        if (!dataTable) return;\n",
              "\n",
              "        const docLinkHtml = 'Like what you see? Visit the ' +\n",
              "          '<a target=\"_blank\" href=https://colab.research.google.com/notebooks/data_table.ipynb>data table notebook</a>'\n",
              "          + ' to learn more about interactive tables.';\n",
              "        element.innerHTML = '';\n",
              "        dataTable['output_type'] = 'display_data';\n",
              "        await google.colab.output.renderOutput(dataTable, element);\n",
              "        const docLink = document.createElement('div');\n",
              "        docLink.innerHTML = docLinkHtml;\n",
              "        element.appendChild(docLink);\n",
              "      }\n",
              "    </script>\n",
              "  </div>\n",
              "\n",
              "\n",
              "<div id=\"df-b3ad8bda-017a-4ba9-9f98-c56a3d387824\">\n",
              "  <button class=\"colab-df-quickchart\" onclick=\"quickchart('df-b3ad8bda-017a-4ba9-9f98-c56a3d387824')\"\n",
              "            title=\"Suggest charts\"\n",
              "            style=\"display:none;\">\n",
              "\n",
              "<svg xmlns=\"http://www.w3.org/2000/svg\" height=\"24px\"viewBox=\"0 0 24 24\"\n",
              "     width=\"24px\">\n",
              "    <g>\n",
              "        <path d=\"M19 3H5c-1.1 0-2 .9-2 2v14c0 1.1.9 2 2 2h14c1.1 0 2-.9 2-2V5c0-1.1-.9-2-2-2zM9 17H7v-7h2v7zm4 0h-2V7h2v10zm4 0h-2v-4h2v4z\"/>\n",
              "    </g>\n",
              "</svg>\n",
              "  </button>\n",
              "\n",
              "<style>\n",
              "  .colab-df-quickchart {\n",
              "      --bg-color: #E8F0FE;\n",
              "      --fill-color: #1967D2;\n",
              "      --hover-bg-color: #E2EBFA;\n",
              "      --hover-fill-color: #174EA6;\n",
              "      --disabled-fill-color: #AAA;\n",
              "      --disabled-bg-color: #DDD;\n",
              "  }\n",
              "\n",
              "  [theme=dark] .colab-df-quickchart {\n",
              "      --bg-color: #3B4455;\n",
              "      --fill-color: #D2E3FC;\n",
              "      --hover-bg-color: #434B5C;\n",
              "      --hover-fill-color: #FFFFFF;\n",
              "      --disabled-bg-color: #3B4455;\n",
              "      --disabled-fill-color: #666;\n",
              "  }\n",
              "\n",
              "  .colab-df-quickchart {\n",
              "    background-color: var(--bg-color);\n",
              "    border: none;\n",
              "    border-radius: 50%;\n",
              "    cursor: pointer;\n",
              "    display: none;\n",
              "    fill: var(--fill-color);\n",
              "    height: 32px;\n",
              "    padding: 0;\n",
              "    width: 32px;\n",
              "  }\n",
              "\n",
              "  .colab-df-quickchart:hover {\n",
              "    background-color: var(--hover-bg-color);\n",
              "    box-shadow: 0 1px 2px rgba(60, 64, 67, 0.3), 0 1px 3px 1px rgba(60, 64, 67, 0.15);\n",
              "    fill: var(--button-hover-fill-color);\n",
              "  }\n",
              "\n",
              "  .colab-df-quickchart-complete:disabled,\n",
              "  .colab-df-quickchart-complete:disabled:hover {\n",
              "    background-color: var(--disabled-bg-color);\n",
              "    fill: var(--disabled-fill-color);\n",
              "    box-shadow: none;\n",
              "  }\n",
              "\n",
              "  .colab-df-spinner {\n",
              "    border: 2px solid var(--fill-color);\n",
              "    border-color: transparent;\n",
              "    border-bottom-color: var(--fill-color);\n",
              "    animation:\n",
              "      spin 1s steps(1) infinite;\n",
              "  }\n",
              "\n",
              "  @keyframes spin {\n",
              "    0% {\n",
              "      border-color: transparent;\n",
              "      border-bottom-color: var(--fill-color);\n",
              "      border-left-color: var(--fill-color);\n",
              "    }\n",
              "    20% {\n",
              "      border-color: transparent;\n",
              "      border-left-color: var(--fill-color);\n",
              "      border-top-color: var(--fill-color);\n",
              "    }\n",
              "    30% {\n",
              "      border-color: transparent;\n",
              "      border-left-color: var(--fill-color);\n",
              "      border-top-color: var(--fill-color);\n",
              "      border-right-color: var(--fill-color);\n",
              "    }\n",
              "    40% {\n",
              "      border-color: transparent;\n",
              "      border-right-color: var(--fill-color);\n",
              "      border-top-color: var(--fill-color);\n",
              "    }\n",
              "    60% {\n",
              "      border-color: transparent;\n",
              "      border-right-color: var(--fill-color);\n",
              "    }\n",
              "    80% {\n",
              "      border-color: transparent;\n",
              "      border-right-color: var(--fill-color);\n",
              "      border-bottom-color: var(--fill-color);\n",
              "    }\n",
              "    90% {\n",
              "      border-color: transparent;\n",
              "      border-bottom-color: var(--fill-color);\n",
              "    }\n",
              "  }\n",
              "</style>\n",
              "\n",
              "  <script>\n",
              "    async function quickchart(key) {\n",
              "      const quickchartButtonEl =\n",
              "        document.querySelector('#' + key + ' button');\n",
              "      quickchartButtonEl.disabled = true;  // To prevent multiple clicks.\n",
              "      quickchartButtonEl.classList.add('colab-df-spinner');\n",
              "      try {\n",
              "        const charts = await google.colab.kernel.invokeFunction(\n",
              "            'suggestCharts', [key], {});\n",
              "      } catch (error) {\n",
              "        console.error('Error during call to suggestCharts:', error);\n",
              "      }\n",
              "      quickchartButtonEl.classList.remove('colab-df-spinner');\n",
              "      quickchartButtonEl.classList.add('colab-df-quickchart-complete');\n",
              "    }\n",
              "    (() => {\n",
              "      let quickchartButtonEl =\n",
              "        document.querySelector('#df-b3ad8bda-017a-4ba9-9f98-c56a3d387824 button');\n",
              "      quickchartButtonEl.style.display =\n",
              "        google.colab.kernel.accessAllowed ? 'block' : 'none';\n",
              "    })();\n",
              "  </script>\n",
              "</div>\n",
              "\n",
              "    </div>\n",
              "  </div>\n"
            ],
            "application/vnd.google.colaboratory.intrinsic+json": {
              "type": "dataframe",
              "variable_name": "data_fake",
              "summary": "{\n  \"name\": \"data_fake\",\n  \"rows\": 23481,\n  \"fields\": [\n    {\n      \"column\": \"title\",\n      \"properties\": {\n        \"dtype\": \"string\",\n        \"samples\": [\n          \" Fox News Mocked Into Oblivion After This F*cking STUPID Attempt To Make Steve Bannon Look Sane (TWEETS)\",\n          \"BREAKING: FL GOV RICK SCOTT Calls for FBI Director to Resign\",\n          \" WATCH: Mike Pence\\u2019s Photo Op With Puerto Rico Survivors Just Went TERRIBLY Wrong (VIDEO)\"\n        ],\n        \"num_unique_values\": 17903,\n        \"semantic_type\": \"\",\n        \"description\": \"\"\n      }\n    },\n    {\n      \"column\": \"text\",\n      \"properties\": {\n        \"dtype\": \"string\",\n        \"samples\": [\n          \"The moral decay continues The Kapiolani Medical Center for Women and Children at the University of Hawaii is currently recruiting pregnant girls and women to participate in second-trimester abortions to measure their bleeding during the operation, with and without antihemorrhagic drugs. According to the Clinical Trials website, run by the National Institutes of Health, participants must be at least 14 years old and 18-24 weeks pregnant.The controversial study, led by Bliss Kaneshiro, MD and Kate Whitehouse, DO, will monitor bleeding during D&E abortions to determine the effects of the drug oxytocin, commonly used to minimize blood loss and decrease the risk of hemorrhage.The clinical trial, called  Effects of Oxytocin on Bleeding Outcomes during Dilation and Evacuation  began in October 2014 and is a collaboration between UH, Society of Family Planning and the University of Washington.The Society of Family Planning funds a number of similar research projects, such as experimenting with the dosage of Misoprostol, a uterine contracting agent, prior to surgical abortions at 13-18 weeks and exploring umbilical cord injections to produce fetal death prior to late-term abortions.In the UH study, researchers will carry out a  randomized, double-blinded, placebo-controlled trials,  to determine the effect of oxytocin s use on uterine bleeding, meaning that they will either provide or deny intravenous oxytocin to the women.Reports suggest that some doctors are concerned that withholding oxytocin during surgery may put patients, especially teen girls, at risk. This study is reminiscent of Nazi concentration camp experiments. I pity the poor women who are being treated like lab rats, especially those who are denied the drug to reduce hemorrhaging,  said Troy Newman, President of Operation Rescue.Dilation and evacuation abortions are surgical procedures that involve dismembering the pre-born baby with forceps, scraping the inside of the uterus with a curette to remove any residuals and finally suctioning out the womb to make sure the contents are completely removed.After the abortion, the corpse of the fetus is reassembled and examined to ensure everything was successfully removed and that the abortion was complete.The study is hoping to attract up to 166 test subjects and is expected to conclude in July 2015.Via: Breitbart News\",\n          \"CNN was quick to scoop up Corey Lewandowski after Donald Trump kicked him out of his role as campaign manager, but his first week on the job is going pretty much exactly how you would expect it to go   terribly.Not only has Lewandowski proven himself to be pretty much like a paid spokesman for Trump, but his defense of the disgraced GOP candidate isn t being received well. Earlier this week, Lewandowski revealed that he was under contract and couldn t criticize The Donald, even after being fired from the campaign. Today, Lewandowski got called out by Hillary Clinton surrogate Christine Quinn for hyping Trump up to be an expert on the Brexit decision   a suggestion that was clearly false.On Monday s edition of CNN s New Day, Lewandowski made another pathetic defense of Trump by trying to reframe the candidate s disgusting reaction to Brexit, where he mostly spoke about how much the decision would be good for his Scotland golf resort. Lewandowski s defense was: Obviously the U.S. dollar has become much stronger now against the British pound. If you re going to spend money in Europe, now would actually be a good time to go with the fall of the pound.What you have is a world view, so what you have is someone who is saying,  Let s look at this from the U.S. perspective. If you want to go and travel overseas   just from a monetary perspective   now is the right time to do that because what you re getting is more for your dollar. Quinn wasn t having it. She ripped into Lewandowski, firing back, Donald Trump is not running to be travel agent of the world, he s running to be president of the United States.  She continued: What he said wasn t a commentary on international markets, it was,  When the pound goes down, more people will come to my golf course. Donald Trump s main concern isn t the international markets, it isn t the impact that Brexit will have on hard working Americans  401Ks, it s himself. How can he make more money, how can he put more money in his bank account? Lewandowski compared the Brexit decision to Trump s rise in the GOP, and Quinn once again called him out and put him back in his place. She said: Trump touted that he saw this coming. That s ridiculous because when he was first asked about Brexit by the press, he didn t appear to know what it was. Lewandowski tried to counter by insisting that People are too smart, they are tired of being told what to do.  He then tried to commend Trump for being a selfish moron: You know what Donald Trump said about Brexit? What he said was, you don t have to listen to me because it s not my decision. He didn t weigh in like Hillary Clinton did, like Barack Obama did, saying that you can t do this. Quinn fought back, Because he didn t know what it was. Lewandowski was fighting a losing battle. Trump s reaction to Brexit was just as terrifying as it was humorous   it truly proved that Trump knows nothing about foreign affairs, and hasn t spent any time educating himself since the beginning of his presidential candidacy. If only some of the hours he spent getting into fights on Twitter were being used for learning about how the world works. But instead, he once again exposed himself as an unfit choice for President. And when people like Lewandowski try to make sense of his idiocy, they only make themselves look equally foolish.You can watch the embarrassing video below:Featured image via screen capture\",\n          \"A Michigan woman decided to defend against tyranny? when she and another shopper couldn t agree over who got to buy the last notebook on the shelf at the Novi Towne Center store.According to ABC 13, the brawl   yes, brawl    involved two Farmington Hills residents, ages 46 and 32, and a mother and daughter from South Lyon, ages 51 and 20. In other words, these were all grown adults who should have known better but hey   there was only one notebook on the shelf, and we ve all seen what happens in those post-apocalyptic movies when a store is down to the last gallon of milk, right?Two of the women, one of whom was the unnamed 20-year-old, reached for the notebook at the same time. The 46 and 32-year-olds apparently decided that she wasn t getting their goddamn notebook and began pulling her hair.Then, because this had almost hit peak  trailer park,  the 20-year-old s mother decided to go for bonus points by pulling out her gun. Fortunately, someone pushed her aside before she could do any harm.This is one of the NRA s  responsible gun owners  (conservatives can t dismiss this one, as it is confirmed that she is a concealed carry permit holder)   ready to leap into action at the most minor sign of danger and make things worse by turning the situation potentially deadly.Watch it happen below:Featured image via screengrab\"\n        ],\n        \"num_unique_values\": 17455,\n        \"semantic_type\": \"\",\n        \"description\": \"\"\n      }\n    },\n    {\n      \"column\": \"subject\",\n      \"properties\": {\n        \"dtype\": \"category\",\n        \"samples\": [\n          \"News\",\n          \"politics\",\n          \"Middle-east\"\n        ],\n        \"num_unique_values\": 6,\n        \"semantic_type\": \"\",\n        \"description\": \"\"\n      }\n    },\n    {\n      \"column\": \"date\",\n      \"properties\": {\n        \"dtype\": \"category\",\n        \"samples\": [\n          \"Jun 5, 2015\",\n          \"August 28, 2016\",\n          \"June 3, 2017\"\n        ],\n        \"num_unique_values\": 1681,\n        \"semantic_type\": \"\",\n        \"description\": \"\"\n      }\n    }\n  ]\n}"
            }
          },
          "metadata": {},
          "execution_count": 3
        }
      ]
    },
    {
      "cell_type": "code",
      "source": [
        "data_true.head()"
      ],
      "metadata": {
        "id": "eYd8TqEX6Oi9",
        "colab": {
          "base_uri": "https://localhost:8080/",
          "height": 206
        },
        "outputId": "e8603745-f26e-4ee2-e0fb-9c26e51fc64d"
      },
      "execution_count": 4,
      "outputs": [
        {
          "output_type": "execute_result",
          "data": {
            "text/plain": [
              "                                               title  \\\n",
              "0  As U.S. budget fight looms, Republicans flip t...   \n",
              "1  U.S. military to accept transgender recruits o...   \n",
              "2  Senior U.S. Republican senator: 'Let Mr. Muell...   \n",
              "3  FBI Russia probe helped by Australian diplomat...   \n",
              "4  Trump wants Postal Service to charge 'much mor...   \n",
              "\n",
              "                                                text       subject  \\\n",
              "0  WASHINGTON (Reuters) - The head of a conservat...  politicsNews   \n",
              "1  WASHINGTON (Reuters) - Transgender people will...  politicsNews   \n",
              "2  WASHINGTON (Reuters) - The special counsel inv...  politicsNews   \n",
              "3  WASHINGTON (Reuters) - Trump campaign adviser ...  politicsNews   \n",
              "4  SEATTLE/WASHINGTON (Reuters) - President Donal...  politicsNews   \n",
              "\n",
              "                 date  \n",
              "0  December 31, 2017   \n",
              "1  December 29, 2017   \n",
              "2  December 31, 2017   \n",
              "3  December 30, 2017   \n",
              "4  December 29, 2017   "
            ],
            "text/html": [
              "\n",
              "  <div id=\"df-463fae86-4991-47ce-a459-7e1229cf836b\" class=\"colab-df-container\">\n",
              "    <div>\n",
              "<style scoped>\n",
              "    .dataframe tbody tr th:only-of-type {\n",
              "        vertical-align: middle;\n",
              "    }\n",
              "\n",
              "    .dataframe tbody tr th {\n",
              "        vertical-align: top;\n",
              "    }\n",
              "\n",
              "    .dataframe thead th {\n",
              "        text-align: right;\n",
              "    }\n",
              "</style>\n",
              "<table border=\"1\" class=\"dataframe\">\n",
              "  <thead>\n",
              "    <tr style=\"text-align: right;\">\n",
              "      <th></th>\n",
              "      <th>title</th>\n",
              "      <th>text</th>\n",
              "      <th>subject</th>\n",
              "      <th>date</th>\n",
              "    </tr>\n",
              "  </thead>\n",
              "  <tbody>\n",
              "    <tr>\n",
              "      <th>0</th>\n",
              "      <td>As U.S. budget fight looms, Republicans flip t...</td>\n",
              "      <td>WASHINGTON (Reuters) - The head of a conservat...</td>\n",
              "      <td>politicsNews</td>\n",
              "      <td>December 31, 2017</td>\n",
              "    </tr>\n",
              "    <tr>\n",
              "      <th>1</th>\n",
              "      <td>U.S. military to accept transgender recruits o...</td>\n",
              "      <td>WASHINGTON (Reuters) - Transgender people will...</td>\n",
              "      <td>politicsNews</td>\n",
              "      <td>December 29, 2017</td>\n",
              "    </tr>\n",
              "    <tr>\n",
              "      <th>2</th>\n",
              "      <td>Senior U.S. Republican senator: 'Let Mr. Muell...</td>\n",
              "      <td>WASHINGTON (Reuters) - The special counsel inv...</td>\n",
              "      <td>politicsNews</td>\n",
              "      <td>December 31, 2017</td>\n",
              "    </tr>\n",
              "    <tr>\n",
              "      <th>3</th>\n",
              "      <td>FBI Russia probe helped by Australian diplomat...</td>\n",
              "      <td>WASHINGTON (Reuters) - Trump campaign adviser ...</td>\n",
              "      <td>politicsNews</td>\n",
              "      <td>December 30, 2017</td>\n",
              "    </tr>\n",
              "    <tr>\n",
              "      <th>4</th>\n",
              "      <td>Trump wants Postal Service to charge 'much mor...</td>\n",
              "      <td>SEATTLE/WASHINGTON (Reuters) - President Donal...</td>\n",
              "      <td>politicsNews</td>\n",
              "      <td>December 29, 2017</td>\n",
              "    </tr>\n",
              "  </tbody>\n",
              "</table>\n",
              "</div>\n",
              "    <div class=\"colab-df-buttons\">\n",
              "\n",
              "  <div class=\"colab-df-container\">\n",
              "    <button class=\"colab-df-convert\" onclick=\"convertToInteractive('df-463fae86-4991-47ce-a459-7e1229cf836b')\"\n",
              "            title=\"Convert this dataframe to an interactive table.\"\n",
              "            style=\"display:none;\">\n",
              "\n",
              "  <svg xmlns=\"http://www.w3.org/2000/svg\" height=\"24px\" viewBox=\"0 -960 960 960\">\n",
              "    <path d=\"M120-120v-720h720v720H120Zm60-500h600v-160H180v160Zm220 220h160v-160H400v160Zm0 220h160v-160H400v160ZM180-400h160v-160H180v160Zm440 0h160v-160H620v160ZM180-180h160v-160H180v160Zm440 0h160v-160H620v160Z\"/>\n",
              "  </svg>\n",
              "    </button>\n",
              "\n",
              "  <style>\n",
              "    .colab-df-container {\n",
              "      display:flex;\n",
              "      gap: 12px;\n",
              "    }\n",
              "\n",
              "    .colab-df-convert {\n",
              "      background-color: #E8F0FE;\n",
              "      border: none;\n",
              "      border-radius: 50%;\n",
              "      cursor: pointer;\n",
              "      display: none;\n",
              "      fill: #1967D2;\n",
              "      height: 32px;\n",
              "      padding: 0 0 0 0;\n",
              "      width: 32px;\n",
              "    }\n",
              "\n",
              "    .colab-df-convert:hover {\n",
              "      background-color: #E2EBFA;\n",
              "      box-shadow: 0px 1px 2px rgba(60, 64, 67, 0.3), 0px 1px 3px 1px rgba(60, 64, 67, 0.15);\n",
              "      fill: #174EA6;\n",
              "    }\n",
              "\n",
              "    .colab-df-buttons div {\n",
              "      margin-bottom: 4px;\n",
              "    }\n",
              "\n",
              "    [theme=dark] .colab-df-convert {\n",
              "      background-color: #3B4455;\n",
              "      fill: #D2E3FC;\n",
              "    }\n",
              "\n",
              "    [theme=dark] .colab-df-convert:hover {\n",
              "      background-color: #434B5C;\n",
              "      box-shadow: 0px 1px 3px 1px rgba(0, 0, 0, 0.15);\n",
              "      filter: drop-shadow(0px 1px 2px rgba(0, 0, 0, 0.3));\n",
              "      fill: #FFFFFF;\n",
              "    }\n",
              "  </style>\n",
              "\n",
              "    <script>\n",
              "      const buttonEl =\n",
              "        document.querySelector('#df-463fae86-4991-47ce-a459-7e1229cf836b button.colab-df-convert');\n",
              "      buttonEl.style.display =\n",
              "        google.colab.kernel.accessAllowed ? 'block' : 'none';\n",
              "\n",
              "      async function convertToInteractive(key) {\n",
              "        const element = document.querySelector('#df-463fae86-4991-47ce-a459-7e1229cf836b');\n",
              "        const dataTable =\n",
              "          await google.colab.kernel.invokeFunction('convertToInteractive',\n",
              "                                                    [key], {});\n",
              "        if (!dataTable) return;\n",
              "\n",
              "        const docLinkHtml = 'Like what you see? Visit the ' +\n",
              "          '<a target=\"_blank\" href=https://colab.research.google.com/notebooks/data_table.ipynb>data table notebook</a>'\n",
              "          + ' to learn more about interactive tables.';\n",
              "        element.innerHTML = '';\n",
              "        dataTable['output_type'] = 'display_data';\n",
              "        await google.colab.output.renderOutput(dataTable, element);\n",
              "        const docLink = document.createElement('div');\n",
              "        docLink.innerHTML = docLinkHtml;\n",
              "        element.appendChild(docLink);\n",
              "      }\n",
              "    </script>\n",
              "  </div>\n",
              "\n",
              "\n",
              "<div id=\"df-ea53c8ad-96d1-4409-9eec-808cfa3d4979\">\n",
              "  <button class=\"colab-df-quickchart\" onclick=\"quickchart('df-ea53c8ad-96d1-4409-9eec-808cfa3d4979')\"\n",
              "            title=\"Suggest charts\"\n",
              "            style=\"display:none;\">\n",
              "\n",
              "<svg xmlns=\"http://www.w3.org/2000/svg\" height=\"24px\"viewBox=\"0 0 24 24\"\n",
              "     width=\"24px\">\n",
              "    <g>\n",
              "        <path d=\"M19 3H5c-1.1 0-2 .9-2 2v14c0 1.1.9 2 2 2h14c1.1 0 2-.9 2-2V5c0-1.1-.9-2-2-2zM9 17H7v-7h2v7zm4 0h-2V7h2v10zm4 0h-2v-4h2v4z\"/>\n",
              "    </g>\n",
              "</svg>\n",
              "  </button>\n",
              "\n",
              "<style>\n",
              "  .colab-df-quickchart {\n",
              "      --bg-color: #E8F0FE;\n",
              "      --fill-color: #1967D2;\n",
              "      --hover-bg-color: #E2EBFA;\n",
              "      --hover-fill-color: #174EA6;\n",
              "      --disabled-fill-color: #AAA;\n",
              "      --disabled-bg-color: #DDD;\n",
              "  }\n",
              "\n",
              "  [theme=dark] .colab-df-quickchart {\n",
              "      --bg-color: #3B4455;\n",
              "      --fill-color: #D2E3FC;\n",
              "      --hover-bg-color: #434B5C;\n",
              "      --hover-fill-color: #FFFFFF;\n",
              "      --disabled-bg-color: #3B4455;\n",
              "      --disabled-fill-color: #666;\n",
              "  }\n",
              "\n",
              "  .colab-df-quickchart {\n",
              "    background-color: var(--bg-color);\n",
              "    border: none;\n",
              "    border-radius: 50%;\n",
              "    cursor: pointer;\n",
              "    display: none;\n",
              "    fill: var(--fill-color);\n",
              "    height: 32px;\n",
              "    padding: 0;\n",
              "    width: 32px;\n",
              "  }\n",
              "\n",
              "  .colab-df-quickchart:hover {\n",
              "    background-color: var(--hover-bg-color);\n",
              "    box-shadow: 0 1px 2px rgba(60, 64, 67, 0.3), 0 1px 3px 1px rgba(60, 64, 67, 0.15);\n",
              "    fill: var(--button-hover-fill-color);\n",
              "  }\n",
              "\n",
              "  .colab-df-quickchart-complete:disabled,\n",
              "  .colab-df-quickchart-complete:disabled:hover {\n",
              "    background-color: var(--disabled-bg-color);\n",
              "    fill: var(--disabled-fill-color);\n",
              "    box-shadow: none;\n",
              "  }\n",
              "\n",
              "  .colab-df-spinner {\n",
              "    border: 2px solid var(--fill-color);\n",
              "    border-color: transparent;\n",
              "    border-bottom-color: var(--fill-color);\n",
              "    animation:\n",
              "      spin 1s steps(1) infinite;\n",
              "  }\n",
              "\n",
              "  @keyframes spin {\n",
              "    0% {\n",
              "      border-color: transparent;\n",
              "      border-bottom-color: var(--fill-color);\n",
              "      border-left-color: var(--fill-color);\n",
              "    }\n",
              "    20% {\n",
              "      border-color: transparent;\n",
              "      border-left-color: var(--fill-color);\n",
              "      border-top-color: var(--fill-color);\n",
              "    }\n",
              "    30% {\n",
              "      border-color: transparent;\n",
              "      border-left-color: var(--fill-color);\n",
              "      border-top-color: var(--fill-color);\n",
              "      border-right-color: var(--fill-color);\n",
              "    }\n",
              "    40% {\n",
              "      border-color: transparent;\n",
              "      border-right-color: var(--fill-color);\n",
              "      border-top-color: var(--fill-color);\n",
              "    }\n",
              "    60% {\n",
              "      border-color: transparent;\n",
              "      border-right-color: var(--fill-color);\n",
              "    }\n",
              "    80% {\n",
              "      border-color: transparent;\n",
              "      border-right-color: var(--fill-color);\n",
              "      border-bottom-color: var(--fill-color);\n",
              "    }\n",
              "    90% {\n",
              "      border-color: transparent;\n",
              "      border-bottom-color: var(--fill-color);\n",
              "    }\n",
              "  }\n",
              "</style>\n",
              "\n",
              "  <script>\n",
              "    async function quickchart(key) {\n",
              "      const quickchartButtonEl =\n",
              "        document.querySelector('#' + key + ' button');\n",
              "      quickchartButtonEl.disabled = true;  // To prevent multiple clicks.\n",
              "      quickchartButtonEl.classList.add('colab-df-spinner');\n",
              "      try {\n",
              "        const charts = await google.colab.kernel.invokeFunction(\n",
              "            'suggestCharts', [key], {});\n",
              "      } catch (error) {\n",
              "        console.error('Error during call to suggestCharts:', error);\n",
              "      }\n",
              "      quickchartButtonEl.classList.remove('colab-df-spinner');\n",
              "      quickchartButtonEl.classList.add('colab-df-quickchart-complete');\n",
              "    }\n",
              "    (() => {\n",
              "      let quickchartButtonEl =\n",
              "        document.querySelector('#df-ea53c8ad-96d1-4409-9eec-808cfa3d4979 button');\n",
              "      quickchartButtonEl.style.display =\n",
              "        google.colab.kernel.accessAllowed ? 'block' : 'none';\n",
              "    })();\n",
              "  </script>\n",
              "</div>\n",
              "\n",
              "    </div>\n",
              "  </div>\n"
            ],
            "application/vnd.google.colaboratory.intrinsic+json": {
              "type": "dataframe",
              "variable_name": "data_true",
              "summary": "{\n  \"name\": \"data_true\",\n  \"rows\": 21417,\n  \"fields\": [\n    {\n      \"column\": \"title\",\n      \"properties\": {\n        \"dtype\": \"string\",\n        \"samples\": [\n          \"German, Turkish foreign ministers meet after detainee released\",\n          \"Kremlin calls North Korea's latest missile launch another 'provocation'\",\n          \"Transgender soldiers, veterans shaken by Trump's ban on their service\"\n        ],\n        \"num_unique_values\": 20826,\n        \"semantic_type\": \"\",\n        \"description\": \"\"\n      }\n    },\n    {\n      \"column\": \"text\",\n      \"properties\": {\n        \"dtype\": \"string\",\n        \"samples\": [\n          \"WASHINGTON (Reuters) - A majority of the U.S. Senate on Tuesday backed a new round of disaster aid to help Puerto Rico and several states recover from damage from hurricanes and wildfires. The legislation would provide $36.5 billion in emergency relief as Puerto Rico in particular struggles to regain electricity and other basic services following destructive hurricanes. The House of Representatives approved the bill earlier this month. The Trump administration already has indicated it will seek another round of emergency relief from Congress. \",\n          \"BUDAPEST (Reuters) - About a thousand Hungarians protested on Friday against a crackdown on the main opposition party Jobbik which has been  threatened by a record political campaign fine that the party leader describes as a  death sentence  for democracy. Despite the gloomy rhetoric and Jobbik saying it was fighting for survival, support for the demonstration was well down on other similar rallies over the past year. Hungarians will vote for a new parliament in April and Prime Minister Viktor Orban s conservative, anti-migrant Fidesz party is far ahead in the polls, with Jobbik its nearest rival. Jobbik, once on the far right, has turned toward the center in a bid to attract more support and is now campaigning nationwide against Orban, depicting him as the leader of a criminal gang. Orban, rejecting the charges, says his financial standing is  an open book . Last week the state audit office (ASZ) ruled Jobbik had bought political posters far below market prices, breaching rules on political funding, then it slapped a 663 million forint ($2.5 million) penalty on the party. The protesters, waving Jobbik flags and posters deriding the ruling elite, gathered outside the headquarters of Orban s Fidesz party.  What we see unfolding is not an audit office investigation. It is not an official penalty. This is a death sentence with Jobbik s name on it. But in reality, it is a death sentence for Hungarian democracy,  Jobbiik leader Gabor Vona told the crowd. A government spokesman could not comment immediately on his remarks. ASZ chairman Laszlo Domokos is a former Fidesz lawmaker, whom Jobbik and other critics accuse of making decisions in favor of Orban. The audit office denies that. On Friday, ASZ again called on Jobbik to submit information that would challenge its findings, saying it acted fully within its rights throughout the probe. The ruling Fidesz party and the government have denied any involvement in the ASZ probe.  This case has nothing to do with the election campaign,  Orban aide Janos Lazar said on Thursday. For over a year Fidesz has targeted Jobbik, whose move to the center could upend the longstanding status quo of a dominant Fidesz with weaker opponents to its left and its right, said analyst Zoltan Novak at the Centre for Fair Political Analysis. Gyorgy Illes, a 67-year-old pensioner attending the rally, said he used to be a Socialist supporter but got disillusioned as the party struggled to overcome its internal divisions.  This ASZ probe is a clear sign that Orban is way past any remedy. It is a ruthless attack on everything we hold dear. Democracy, the rule of law, equality, you name it,  he said. \",\n          \"BEIJING/TAIPEI (Reuters) - China accused the United States on Thursday of interfering in its internal affairs and said it had lodged a complaint after U.S. President Donald Trump signed into law an act laying the groundwork for possible U.S. navy visits to self-ruled Taiwan. Tensions have risen in recent days after a senior Chinese diplomat threatened China would invade Taiwan if any U.S. warships made port visits to the island which China claims as its own territory. On Monday, Chinese jets carried out  island encirclement patrols  around Taiwan, with state media showing pictures of bombers with cruise missiles slung under their wings as they carried out the exercise. On Tuesday, Trump signed into law the National Defense Authorization Act for the 2018 fiscal year, which authorizes the possibility of mutual visits by navy vessels between Taiwan and the United States. Such visits would be the first since the United States ended formal diplomatic relations with Taiwan in 1979 and established ties with Beijing. Chinese Foreign Ministry spokesman Lu Kang said while the Taiwan sections of the law were not legally binding, they seriously violate the  One China  policy and  constitute an interference in China s internal affairs .   China is resolutely opposed to this, and we have already lodged stern representations with the U.S. government,  Lu told a daily news briefing. China is firmly opposed to any official exchanges, military contact, or arms sales between Taiwan and the United States, he added.  Proudly democratic Taiwan has become increasingly concerned with the ramped up Chinese military presence, that has included several rounds of Chinese air force drills around the island in recent months.  Taiwan is confident of its defenses and responded quickly to the Chinese air force drills this week, its government said, denouncing the rise in China s military deployments as irresponsible. Taiwan presidential spokesman Alex Huang, speaking to Taiwan media in comments reported late on Wednesday, said the defense ministry had kept a close watch on the patrols and responded immediately and properly. Taiwan  can ensure there are no concerns at all about national security, and people can rest assured , Huang said. Both sides of the narrow Taiwan Strait, which separates Taiwan from its giant neighbor, have a responsibility to protect peace and stability, he added.  Such a raised military posture that may impact upon and harm regional peace and stability and cross-strait ties does not give a feeling of responsibility, and the international community does not look favorably upon this,  Huang was quoted as saying. Relations have soured considerably since Tsai Ing-wen, who leads Taiwan s independence-leaning Democratic Progressive Party, won presidential elections last year. China suspects Tsai wants to declare the island s formal independence, a red line for Beijing. Tsai says she wants to maintain peace with China but will defend Taiwan s security. Taiwan is well equipped with mostly U.S. weapons but has been pressing for more advanced equipment to deal with what it sees as a rising threat from China. The United States is bound by law to provide the island with the means to defend itself. China has never renounced the use of force to bring Taiwan under its control. \"\n        ],\n        \"num_unique_values\": 21192,\n        \"semantic_type\": \"\",\n        \"description\": \"\"\n      }\n    },\n    {\n      \"column\": \"subject\",\n      \"properties\": {\n        \"dtype\": \"category\",\n        \"samples\": [\n          \"worldnews\",\n          \"politicsNews\"\n        ],\n        \"num_unique_values\": 2,\n        \"semantic_type\": \"\",\n        \"description\": \"\"\n      }\n    },\n    {\n      \"column\": \"date\",\n      \"properties\": {\n        \"dtype\": \"object\",\n        \"min\": \"April 1, 2016 \",\n        \"max\": \"September 9, 2017 \",\n        \"samples\": [\n          \"September 2, 2017 \",\n          \"February 2, 2017 \"\n        ],\n        \"num_unique_values\": 716,\n        \"semantic_type\": \"\",\n        \"description\": \"\"\n      }\n    }\n  ]\n}"
            }
          },
          "metadata": {},
          "execution_count": 4
        }
      ]
    },
    {
      "cell_type": "markdown",
      "source": [
        "## **Step 3: Assigning Classes to the Dataset**"
      ],
      "metadata": {
        "id": "rmIYWvwQN6W1"
      }
    },
    {
      "cell_type": "code",
      "source": [
        "data_fake['class'] = 0\n",
        "data_true['class'] = 1"
      ],
      "metadata": {
        "id": "mRpwt5diN_3G"
      },
      "execution_count": 5,
      "outputs": []
    },
    {
      "cell_type": "markdown",
      "source": [
        "## **Step 4: Checking Number of Rows and Columns in the Dataset**"
      ],
      "metadata": {
        "id": "-qDFdcLmOQON"
      }
    },
    {
      "cell_type": "code",
      "source": [
        "data_fake.shape, data_true.shape"
      ],
      "metadata": {
        "colab": {
          "base_uri": "https://localhost:8080/"
        },
        "id": "3qcqYpNmOM76",
        "outputId": "da52de34-ff5b-4786-e4ef-fa377fdc9d6d"
      },
      "execution_count": 7,
      "outputs": [
        {
          "output_type": "execute_result",
          "data": {
            "text/plain": [
              "((23481, 5), (21417, 5))"
            ]
          },
          "metadata": {},
          "execution_count": 7
        }
      ]
    },
    {
      "cell_type": "markdown",
      "source": [
        "## **Step 5: Manual Testing for Both the Dataset**"
      ],
      "metadata": {
        "id": "boqVPx8HPhuM"
      }
    },
    {
      "cell_type": "markdown",
      "source": [
        "The process of manually checking software for faults is known as manual testing. It requires a tester to act like an end user, using the majority of the application's capabilities to ensure proper behavior."
      ],
      "metadata": {
        "id": "RRSxzOCkRbYX"
      }
    },
    {
      "cell_type": "code",
      "source": [
        "data_fake_manual_testing = data_fake.tail(10)\n",
        "for i in range (23480, 23470,-1):\n",
        "  data_fake.drop([i], axis= 0, inplace=True)\n",
        "\n",
        "data_true_manual_testing = data_true.tail(10)\n",
        "for i in range (21416, 21406, -1):\n",
        "  data_true.drop([i], axis= 0, inplace=True)"
      ],
      "metadata": {
        "id": "xnnZ1qucPqpI"
      },
      "execution_count": 8,
      "outputs": []
    },
    {
      "cell_type": "markdown",
      "source": [
        "## **Step 6: Assigning Classes to the Dataset**"
      ],
      "metadata": {
        "id": "cxW_s07PReTk"
      }
    },
    {
      "cell_type": "code",
      "source": [
        "data_fake_manual_testing['class'] = 0\n",
        "data_true_manual_testing['class'] = 1"
      ],
      "metadata": {
        "colab": {
          "base_uri": "https://localhost:8080/"
        },
        "id": "mfxr0i7oRlQQ",
        "outputId": "c0d38cbe-f4e9-4f33-c338-d8e9b8ea6e37"
      },
      "execution_count": 10,
      "outputs": [
        {
          "output_type": "stream",
          "name": "stderr",
          "text": [
            "<ipython-input-10-8567d59104e3>:1: SettingWithCopyWarning: \n",
            "A value is trying to be set on a copy of a slice from a DataFrame.\n",
            "Try using .loc[row_indexer,col_indexer] = value instead\n",
            "\n",
            "See the caveats in the documentation: https://pandas.pydata.org/pandas-docs/stable/user_guide/indexing.html#returning-a-view-versus-a-copy\n",
            "  data_fake_manual_testing['class'] = 0\n",
            "<ipython-input-10-8567d59104e3>:2: SettingWithCopyWarning: \n",
            "A value is trying to be set on a copy of a slice from a DataFrame.\n",
            "Try using .loc[row_indexer,col_indexer] = value instead\n",
            "\n",
            "See the caveats in the documentation: https://pandas.pydata.org/pandas-docs/stable/user_guide/indexing.html#returning-a-view-versus-a-copy\n",
            "  data_true_manual_testing['class'] = 1\n"
          ]
        }
      ]
    },
    {
      "cell_type": "markdown",
      "source": [
        "## **Step 7: Merging Both the Dataset**"
      ],
      "metadata": {
        "id": "MLgCIeYcSFUW"
      }
    },
    {
      "cell_type": "code",
      "source": [
        "data_merge = pd.concat([data_fake, data_true], axis = 0) ## add or merge two dataset using concat function\n",
        "data_merge.head(10)"
      ],
      "metadata": {
        "colab": {
          "base_uri": "https://localhost:8080/",
          "height": 363
        },
        "id": "aI6RzjsQSLo1",
        "outputId": "965d8461-9baf-4795-b25b-caf7adbd7bad"
      },
      "execution_count": 11,
      "outputs": [
        {
          "output_type": "execute_result",
          "data": {
            "text/plain": [
              "                                               title  \\\n",
              "0   Donald Trump Sends Out Embarrassing New Year’...   \n",
              "1   Drunk Bragging Trump Staffer Started Russian ...   \n",
              "2   Sheriff David Clarke Becomes An Internet Joke...   \n",
              "3   Trump Is So Obsessed He Even Has Obama’s Name...   \n",
              "4   Pope Francis Just Called Out Donald Trump Dur...   \n",
              "5   Racist Alabama Cops Brutalize Black Boy While...   \n",
              "6   Fresh Off The Golf Course, Trump Lashes Out A...   \n",
              "7   Trump Said Some INSANELY Racist Stuff Inside ...   \n",
              "8   Former CIA Director Slams Trump Over UN Bully...   \n",
              "9   WATCH: Brand-New Pro-Trump Ad Features So Muc...   \n",
              "\n",
              "                                                text subject  \\\n",
              "0  Donald Trump just couldn t wish all Americans ...    News   \n",
              "1  House Intelligence Committee Chairman Devin Nu...    News   \n",
              "2  On Friday, it was revealed that former Milwauk...    News   \n",
              "3  On Christmas day, Donald Trump announced that ...    News   \n",
              "4  Pope Francis used his annual Christmas Day mes...    News   \n",
              "5  The number of cases of cops brutalizing and ki...    News   \n",
              "6  Donald Trump spent a good portion of his day a...    News   \n",
              "7  In the wake of yet another court decision that...    News   \n",
              "8  Many people have raised the alarm regarding th...    News   \n",
              "9  Just when you might have thought we d get a br...    News   \n",
              "\n",
              "                date  class  \n",
              "0  December 31, 2017      0  \n",
              "1  December 31, 2017      0  \n",
              "2  December 30, 2017      0  \n",
              "3  December 29, 2017      0  \n",
              "4  December 25, 2017      0  \n",
              "5  December 25, 2017      0  \n",
              "6  December 23, 2017      0  \n",
              "7  December 23, 2017      0  \n",
              "8  December 22, 2017      0  \n",
              "9  December 21, 2017      0  "
            ],
            "text/html": [
              "\n",
              "  <div id=\"df-1dcdd534-6b65-4fe3-a7d4-f1b04cae3c86\" class=\"colab-df-container\">\n",
              "    <div>\n",
              "<style scoped>\n",
              "    .dataframe tbody tr th:only-of-type {\n",
              "        vertical-align: middle;\n",
              "    }\n",
              "\n",
              "    .dataframe tbody tr th {\n",
              "        vertical-align: top;\n",
              "    }\n",
              "\n",
              "    .dataframe thead th {\n",
              "        text-align: right;\n",
              "    }\n",
              "</style>\n",
              "<table border=\"1\" class=\"dataframe\">\n",
              "  <thead>\n",
              "    <tr style=\"text-align: right;\">\n",
              "      <th></th>\n",
              "      <th>title</th>\n",
              "      <th>text</th>\n",
              "      <th>subject</th>\n",
              "      <th>date</th>\n",
              "      <th>class</th>\n",
              "    </tr>\n",
              "  </thead>\n",
              "  <tbody>\n",
              "    <tr>\n",
              "      <th>0</th>\n",
              "      <td>Donald Trump Sends Out Embarrassing New Year’...</td>\n",
              "      <td>Donald Trump just couldn t wish all Americans ...</td>\n",
              "      <td>News</td>\n",
              "      <td>December 31, 2017</td>\n",
              "      <td>0</td>\n",
              "    </tr>\n",
              "    <tr>\n",
              "      <th>1</th>\n",
              "      <td>Drunk Bragging Trump Staffer Started Russian ...</td>\n",
              "      <td>House Intelligence Committee Chairman Devin Nu...</td>\n",
              "      <td>News</td>\n",
              "      <td>December 31, 2017</td>\n",
              "      <td>0</td>\n",
              "    </tr>\n",
              "    <tr>\n",
              "      <th>2</th>\n",
              "      <td>Sheriff David Clarke Becomes An Internet Joke...</td>\n",
              "      <td>On Friday, it was revealed that former Milwauk...</td>\n",
              "      <td>News</td>\n",
              "      <td>December 30, 2017</td>\n",
              "      <td>0</td>\n",
              "    </tr>\n",
              "    <tr>\n",
              "      <th>3</th>\n",
              "      <td>Trump Is So Obsessed He Even Has Obama’s Name...</td>\n",
              "      <td>On Christmas day, Donald Trump announced that ...</td>\n",
              "      <td>News</td>\n",
              "      <td>December 29, 2017</td>\n",
              "      <td>0</td>\n",
              "    </tr>\n",
              "    <tr>\n",
              "      <th>4</th>\n",
              "      <td>Pope Francis Just Called Out Donald Trump Dur...</td>\n",
              "      <td>Pope Francis used his annual Christmas Day mes...</td>\n",
              "      <td>News</td>\n",
              "      <td>December 25, 2017</td>\n",
              "      <td>0</td>\n",
              "    </tr>\n",
              "    <tr>\n",
              "      <th>5</th>\n",
              "      <td>Racist Alabama Cops Brutalize Black Boy While...</td>\n",
              "      <td>The number of cases of cops brutalizing and ki...</td>\n",
              "      <td>News</td>\n",
              "      <td>December 25, 2017</td>\n",
              "      <td>0</td>\n",
              "    </tr>\n",
              "    <tr>\n",
              "      <th>6</th>\n",
              "      <td>Fresh Off The Golf Course, Trump Lashes Out A...</td>\n",
              "      <td>Donald Trump spent a good portion of his day a...</td>\n",
              "      <td>News</td>\n",
              "      <td>December 23, 2017</td>\n",
              "      <td>0</td>\n",
              "    </tr>\n",
              "    <tr>\n",
              "      <th>7</th>\n",
              "      <td>Trump Said Some INSANELY Racist Stuff Inside ...</td>\n",
              "      <td>In the wake of yet another court decision that...</td>\n",
              "      <td>News</td>\n",
              "      <td>December 23, 2017</td>\n",
              "      <td>0</td>\n",
              "    </tr>\n",
              "    <tr>\n",
              "      <th>8</th>\n",
              "      <td>Former CIA Director Slams Trump Over UN Bully...</td>\n",
              "      <td>Many people have raised the alarm regarding th...</td>\n",
              "      <td>News</td>\n",
              "      <td>December 22, 2017</td>\n",
              "      <td>0</td>\n",
              "    </tr>\n",
              "    <tr>\n",
              "      <th>9</th>\n",
              "      <td>WATCH: Brand-New Pro-Trump Ad Features So Muc...</td>\n",
              "      <td>Just when you might have thought we d get a br...</td>\n",
              "      <td>News</td>\n",
              "      <td>December 21, 2017</td>\n",
              "      <td>0</td>\n",
              "    </tr>\n",
              "  </tbody>\n",
              "</table>\n",
              "</div>\n",
              "    <div class=\"colab-df-buttons\">\n",
              "\n",
              "  <div class=\"colab-df-container\">\n",
              "    <button class=\"colab-df-convert\" onclick=\"convertToInteractive('df-1dcdd534-6b65-4fe3-a7d4-f1b04cae3c86')\"\n",
              "            title=\"Convert this dataframe to an interactive table.\"\n",
              "            style=\"display:none;\">\n",
              "\n",
              "  <svg xmlns=\"http://www.w3.org/2000/svg\" height=\"24px\" viewBox=\"0 -960 960 960\">\n",
              "    <path d=\"M120-120v-720h720v720H120Zm60-500h600v-160H180v160Zm220 220h160v-160H400v160Zm0 220h160v-160H400v160ZM180-400h160v-160H180v160Zm440 0h160v-160H620v160ZM180-180h160v-160H180v160Zm440 0h160v-160H620v160Z\"/>\n",
              "  </svg>\n",
              "    </button>\n",
              "\n",
              "  <style>\n",
              "    .colab-df-container {\n",
              "      display:flex;\n",
              "      gap: 12px;\n",
              "    }\n",
              "\n",
              "    .colab-df-convert {\n",
              "      background-color: #E8F0FE;\n",
              "      border: none;\n",
              "      border-radius: 50%;\n",
              "      cursor: pointer;\n",
              "      display: none;\n",
              "      fill: #1967D2;\n",
              "      height: 32px;\n",
              "      padding: 0 0 0 0;\n",
              "      width: 32px;\n",
              "    }\n",
              "\n",
              "    .colab-df-convert:hover {\n",
              "      background-color: #E2EBFA;\n",
              "      box-shadow: 0px 1px 2px rgba(60, 64, 67, 0.3), 0px 1px 3px 1px rgba(60, 64, 67, 0.15);\n",
              "      fill: #174EA6;\n",
              "    }\n",
              "\n",
              "    .colab-df-buttons div {\n",
              "      margin-bottom: 4px;\n",
              "    }\n",
              "\n",
              "    [theme=dark] .colab-df-convert {\n",
              "      background-color: #3B4455;\n",
              "      fill: #D2E3FC;\n",
              "    }\n",
              "\n",
              "    [theme=dark] .colab-df-convert:hover {\n",
              "      background-color: #434B5C;\n",
              "      box-shadow: 0px 1px 3px 1px rgba(0, 0, 0, 0.15);\n",
              "      filter: drop-shadow(0px 1px 2px rgba(0, 0, 0, 0.3));\n",
              "      fill: #FFFFFF;\n",
              "    }\n",
              "  </style>\n",
              "\n",
              "    <script>\n",
              "      const buttonEl =\n",
              "        document.querySelector('#df-1dcdd534-6b65-4fe3-a7d4-f1b04cae3c86 button.colab-df-convert');\n",
              "      buttonEl.style.display =\n",
              "        google.colab.kernel.accessAllowed ? 'block' : 'none';\n",
              "\n",
              "      async function convertToInteractive(key) {\n",
              "        const element = document.querySelector('#df-1dcdd534-6b65-4fe3-a7d4-f1b04cae3c86');\n",
              "        const dataTable =\n",
              "          await google.colab.kernel.invokeFunction('convertToInteractive',\n",
              "                                                    [key], {});\n",
              "        if (!dataTable) return;\n",
              "\n",
              "        const docLinkHtml = 'Like what you see? Visit the ' +\n",
              "          '<a target=\"_blank\" href=https://colab.research.google.com/notebooks/data_table.ipynb>data table notebook</a>'\n",
              "          + ' to learn more about interactive tables.';\n",
              "        element.innerHTML = '';\n",
              "        dataTable['output_type'] = 'display_data';\n",
              "        await google.colab.output.renderOutput(dataTable, element);\n",
              "        const docLink = document.createElement('div');\n",
              "        docLink.innerHTML = docLinkHtml;\n",
              "        element.appendChild(docLink);\n",
              "      }\n",
              "    </script>\n",
              "  </div>\n",
              "\n",
              "\n",
              "<div id=\"df-af09c171-53df-42a7-bc49-e10314fb2264\">\n",
              "  <button class=\"colab-df-quickchart\" onclick=\"quickchart('df-af09c171-53df-42a7-bc49-e10314fb2264')\"\n",
              "            title=\"Suggest charts\"\n",
              "            style=\"display:none;\">\n",
              "\n",
              "<svg xmlns=\"http://www.w3.org/2000/svg\" height=\"24px\"viewBox=\"0 0 24 24\"\n",
              "     width=\"24px\">\n",
              "    <g>\n",
              "        <path d=\"M19 3H5c-1.1 0-2 .9-2 2v14c0 1.1.9 2 2 2h14c1.1 0 2-.9 2-2V5c0-1.1-.9-2-2-2zM9 17H7v-7h2v7zm4 0h-2V7h2v10zm4 0h-2v-4h2v4z\"/>\n",
              "    </g>\n",
              "</svg>\n",
              "  </button>\n",
              "\n",
              "<style>\n",
              "  .colab-df-quickchart {\n",
              "      --bg-color: #E8F0FE;\n",
              "      --fill-color: #1967D2;\n",
              "      --hover-bg-color: #E2EBFA;\n",
              "      --hover-fill-color: #174EA6;\n",
              "      --disabled-fill-color: #AAA;\n",
              "      --disabled-bg-color: #DDD;\n",
              "  }\n",
              "\n",
              "  [theme=dark] .colab-df-quickchart {\n",
              "      --bg-color: #3B4455;\n",
              "      --fill-color: #D2E3FC;\n",
              "      --hover-bg-color: #434B5C;\n",
              "      --hover-fill-color: #FFFFFF;\n",
              "      --disabled-bg-color: #3B4455;\n",
              "      --disabled-fill-color: #666;\n",
              "  }\n",
              "\n",
              "  .colab-df-quickchart {\n",
              "    background-color: var(--bg-color);\n",
              "    border: none;\n",
              "    border-radius: 50%;\n",
              "    cursor: pointer;\n",
              "    display: none;\n",
              "    fill: var(--fill-color);\n",
              "    height: 32px;\n",
              "    padding: 0;\n",
              "    width: 32px;\n",
              "  }\n",
              "\n",
              "  .colab-df-quickchart:hover {\n",
              "    background-color: var(--hover-bg-color);\n",
              "    box-shadow: 0 1px 2px rgba(60, 64, 67, 0.3), 0 1px 3px 1px rgba(60, 64, 67, 0.15);\n",
              "    fill: var(--button-hover-fill-color);\n",
              "  }\n",
              "\n",
              "  .colab-df-quickchart-complete:disabled,\n",
              "  .colab-df-quickchart-complete:disabled:hover {\n",
              "    background-color: var(--disabled-bg-color);\n",
              "    fill: var(--disabled-fill-color);\n",
              "    box-shadow: none;\n",
              "  }\n",
              "\n",
              "  .colab-df-spinner {\n",
              "    border: 2px solid var(--fill-color);\n",
              "    border-color: transparent;\n",
              "    border-bottom-color: var(--fill-color);\n",
              "    animation:\n",
              "      spin 1s steps(1) infinite;\n",
              "  }\n",
              "\n",
              "  @keyframes spin {\n",
              "    0% {\n",
              "      border-color: transparent;\n",
              "      border-bottom-color: var(--fill-color);\n",
              "      border-left-color: var(--fill-color);\n",
              "    }\n",
              "    20% {\n",
              "      border-color: transparent;\n",
              "      border-left-color: var(--fill-color);\n",
              "      border-top-color: var(--fill-color);\n",
              "    }\n",
              "    30% {\n",
              "      border-color: transparent;\n",
              "      border-left-color: var(--fill-color);\n",
              "      border-top-color: var(--fill-color);\n",
              "      border-right-color: var(--fill-color);\n",
              "    }\n",
              "    40% {\n",
              "      border-color: transparent;\n",
              "      border-right-color: var(--fill-color);\n",
              "      border-top-color: var(--fill-color);\n",
              "    }\n",
              "    60% {\n",
              "      border-color: transparent;\n",
              "      border-right-color: var(--fill-color);\n",
              "    }\n",
              "    80% {\n",
              "      border-color: transparent;\n",
              "      border-right-color: var(--fill-color);\n",
              "      border-bottom-color: var(--fill-color);\n",
              "    }\n",
              "    90% {\n",
              "      border-color: transparent;\n",
              "      border-bottom-color: var(--fill-color);\n",
              "    }\n",
              "  }\n",
              "</style>\n",
              "\n",
              "  <script>\n",
              "    async function quickchart(key) {\n",
              "      const quickchartButtonEl =\n",
              "        document.querySelector('#' + key + ' button');\n",
              "      quickchartButtonEl.disabled = true;  // To prevent multiple clicks.\n",
              "      quickchartButtonEl.classList.add('colab-df-spinner');\n",
              "      try {\n",
              "        const charts = await google.colab.kernel.invokeFunction(\n",
              "            'suggestCharts', [key], {});\n",
              "      } catch (error) {\n",
              "        console.error('Error during call to suggestCharts:', error);\n",
              "      }\n",
              "      quickchartButtonEl.classList.remove('colab-df-spinner');\n",
              "      quickchartButtonEl.classList.add('colab-df-quickchart-complete');\n",
              "    }\n",
              "    (() => {\n",
              "      let quickchartButtonEl =\n",
              "        document.querySelector('#df-af09c171-53df-42a7-bc49-e10314fb2264 button');\n",
              "      quickchartButtonEl.style.display =\n",
              "        google.colab.kernel.accessAllowed ? 'block' : 'none';\n",
              "    })();\n",
              "  </script>\n",
              "</div>\n",
              "\n",
              "    </div>\n",
              "  </div>\n"
            ],
            "application/vnd.google.colaboratory.intrinsic+json": {
              "type": "dataframe",
              "variable_name": "data_merge",
              "summary": "{\n  \"name\": \"data_merge\",\n  \"rows\": 44878,\n  \"fields\": [\n    {\n      \"column\": \"title\",\n      \"properties\": {\n        \"dtype\": \"string\",\n        \"samples\": [\n          \"Amnesty International urges halt to Afghan refugee returns\",\n          \"Judge rejects bid by 18 states to revive Obamacare subsidies\",\n          \"Jeb Bush endorses Ted Cruz for Republican nomination\"\n        ],\n        \"num_unique_values\": 38721,\n        \"semantic_type\": \"\",\n        \"description\": \"\"\n      }\n    },\n    {\n      \"column\": \"text\",\n      \"properties\": {\n        \"dtype\": \"string\",\n        \"samples\": [\n          \"President Trump spoke via pre-recorded video to cole miners at the announcement of the opening of the first coal mine in 6 years. This is another campaign promise fulfilled!Trump speaking via pre-recorded video to ceremony marking #coal mine opening in Somerset County, PA. pic.twitter.com/5OQgajZW4m  Daniel Moore (@PGdanielmoore) June 8, 2017PRESIDENT TRUMP MET WITH REPRESENTATIVES FROM THE COAL INDUSTRY IN FEBRUARY OF 2016: President Trump keeps proving the doubters wrong He keeps following through with his campaign promises like his promises to bring coal back. He met with representatives from the coal industry to sign a bill undoing Obama s coal mining rule. The people s president is a worker!OUR PREVIOUS REPORT ON SCOTT PRUITT S APPOINTMENT TO EPA CHIEF THE LEFT WENT BONKERS!OKLAHOMA ATTORNEY GENERAL SCOTT PRUITT is another perfect choice from President-elect Donald Trump. He s sued the feds several times for their overreach in regulations on the coal industry. You have to love his commitment to keeping the federal government on the straight and narrow. It s funny that so many of Trump s picks have gone against Obama s policies We love it! The lefty politicians in DC wasted no time tweeted out their displeasure:When the Environmental Protection Agency proposed rules regulating carbon dioxide emissions from coal-fired power plants, Scott Pruitt sued. When the Justice Department offered legal status to young undocumented immigrants, Scott Pruitt sued. And when the Obama administration sought to give tax credits to states that hadn t set up their own health insurance exchanges, Scott Pruitt sued.Since becoming Oklahoma attorney general in 2010, Pruitt has filed or joined lawsuits against federal agencies at least a dozen times. Even when Oklahoma isn t an actual party in litigation, the state often submits a legal brief against the federal government. Besides air pollution, immigration and health care, Pruitt has fought federal laws and regulations on banking, contraception and endangered species. These days, whenever states go to court against the Obama administration, the chances are that Pruitt is somehow involved.Not that Pruitt is alone. During Obama s presidency, the entire cadre of Republican attorneys general (27 at present) has coordinated cases against federal agencies at an unprecedented pace. But Pruitt is at the center of the action. He has set up a first-in-the-nation  federalism unit,  which seeks to combat instances of federal overreach by every possible means.Read more: Governing\",\n          \" (In this Oct. 13 story, corrects description of legal standard regarding Trump in paragraph 15) By Alison Frankel and Dan Levine (Reuters) - Donald Trump hasn\\u2019t sued a newspaper for libel in three decades, despite the Republican presidential nominee repeatedly threatening to do so over the course of his business career, according to databases of state and federal court records.  A lawyer for the New York real estate developer demanded on Wednesday The New York Times retract a story in which two women accused Trump of inappropriately touching them. If the newspaper did not comply, Trump, who says the allegations are fabricated, would \\u201cpursue all available actions and remedies,\\u201d the lawyer, Marc Kasowitz, said in a letter.  Trump said at a rally on Thursday he was preparing a lawsuit.  An attorney for the Times, David McCraw, said the story was of national importance and the paper would \\u201cwelcome the opportunity\\u201d to defend it in court. Over the years, media outlets including the Wall Street Journal, the Village Voice, the New York Post and Fortune Magazine have reported receiving similar threats from Trump or his representatives in advance of unflattering articles. However, Trump rarely makes good on those threats, according to a Reuters review of court dockets in the database of online legal research service Westlaw, a unit of Thomson Reuters.   \\u00a0\\u00a0\\u00a0 The last time he sued a news organization for libel was apparently in 1984. Trump filed the case after the Chicago Tribune\\u2019s architecture critic called his proposed 150-story Manhattan skyscraper an \\u201catrocious, ugly monstrosity.\\u201d In 1985, a federal judge in Manhattan dismissed the suit, ruling the critic had a First Amendment right to express his opinion. The skyscraper was never built. In the 32 years since Trump brought that suit, he has not taken similar action against another news organization, although he or his companies have sued at least three individuals and a book publisher. He was successful in one of those cases.  Book author and former New York Times reporter Timothy O\\u2019Brien defeated a Trump libel lawsuit in 2011, after Trump underwent a grueling deposition by O\\u2019Brien\\u2019s lawyers.  Trump\\u2019s suit against O\\u2019Brien, which also named O\\u2019Brien\\u2019s publisher, Time Warner Book Group, alleged the author deliberately underestimated the businessman\\u2019s net worth. A New Jersey state judge found in 2009 that Trump had not established O\\u2019Brien\\u2019s actual malice. \\u00a0\\u00a0\\u00a0 Former Miss Universe contestant Sheena Monnin was hit with a $5 million default judgment after she failed to appear for arbitration in a case in which Trump claimed she falsely denigrated the pageant as \\u201crigged.\\u201d The arbitration judgment was upheld by a federal judge in Manhattan in 2013. The court record indicates the judgment was paid in 2014. \\u00a0\\u00a0\\u00a0 The same year, a San Diego federal judge ruled Tarla Makaeff, who was lead plaintiff in a class action against Trump University, did not act with malice when she said in letters to her bank and the Better Business Bureau that Trump University engaged in fraudulent business practices. The judge, Gonzalo Curiel, dismissed Trump\\u2019s defamation claim. \\u00a0\\u00a0\\u00a0\\u00a0Trump\\u2019s attorneys, as well as a spokeswoman for his campaign, did not respond to requests for comment on his libel litigation record, including requests for information on any suits the Reuters docket search may have missed. \\u00a0\\u00a0\\u00a0\\u00a0U.S. courts have routinely deemed Trump a public figure in libel lawsuits. That means he has to show not only that the story is false, but also that the media outlet knew that it was false or published it in \\u201creckless disregard\\u201d for the truth. If Trump were a private person, he would have to show the paper was negligent in failing to learn the allegations were false, which is a lower standard of proof. The New York Times attorney, David McCraw, wrote that the paper carefully vetted the allegations in the story. Any Trump claim will be difficult because Trump\\u2019s accusers were on the record, said Jane Kirtley, a media law expert at University of Minnesota Law School. That would bolster the newspaper\\u2019s argument that it didn\\u2019t act recklessly in publishing their accounts. Trump has vowed to \\u201copen up our libel laws,\\u201d if he wins the presidency on Nov. 8, to make it easier to sue news organizations. In reality, he would not be able to unilaterally change the laws because they are generally governed by individual states and court precedents. Court records show that Trump or his businesses have themselves been sued several times for libel or defamation. Most of those suits, including a complaint by a former tenant of a Trump condominium and another by a former dealer at a Trump casino in Indiana, were dismissed. One defamation suit against Trump survived dismissal, however. Stock analyst Marvin Roffman sued Trump for $2 million in federal court in Philadelphia in 1990, claiming he was fired from his job after publicly predicting the failure of the Taj Mahal casino in Atlantic City. Roffman alleged Trump defamed him in critical statements to numerous newspapers and magazines. After a federal judge refused to toss the case, the Trump Organization settled in 1991. An attorney for Roffman declined to comment. \",\n          \"MOSCOW (Reuters) - British foreign minister Boris Johnson said on Friday that London could not ignore Russia s meddling in elections around the world, its actions in Ukraine, or the persecution of gay people in Chechnya. Johnson was speaking at a news conference in Moscow after holding talks with Russian Foreign Minister Sergei Lavrov.   \"\n        ],\n        \"num_unique_values\": 38637,\n        \"semantic_type\": \"\",\n        \"description\": \"\"\n      }\n    },\n    {\n      \"column\": \"subject\",\n      \"properties\": {\n        \"dtype\": \"category\",\n        \"samples\": [\n          \"politics\",\n          \"Middle-east\",\n          \"News\"\n        ],\n        \"num_unique_values\": 8,\n        \"semantic_type\": \"\",\n        \"description\": \"\"\n      }\n    },\n    {\n      \"column\": \"date\",\n      \"properties\": {\n        \"dtype\": \"category\",\n        \"samples\": [\n          \"October 6, 2016\",\n          \"June 10, 2017\",\n          \"Sep 13, 2015\"\n        ],\n        \"num_unique_values\": 2397,\n        \"semantic_type\": \"\",\n        \"description\": \"\"\n      }\n    },\n    {\n      \"column\": \"class\",\n      \"properties\": {\n        \"dtype\": \"number\",\n        \"std\": 0,\n        \"min\": 0,\n        \"max\": 1,\n        \"samples\": [\n          1,\n          0\n        ],\n        \"num_unique_values\": 2,\n        \"semantic_type\": \"\",\n        \"description\": \"\"\n      }\n    }\n  ]\n}"
            }
          },
          "metadata": {},
          "execution_count": 11
        }
      ]
    },
    {
      "cell_type": "markdown",
      "source": [
        "## **Step 8: Dropping Unwanted Columns**"
      ],
      "metadata": {
        "id": "bxANd_biTyr1"
      }
    },
    {
      "cell_type": "code",
      "source": [
        "data = data_merge.drop(['title', 'subject', 'date'], axis = 1) ## deletes the given row or column"
      ],
      "metadata": {
        "id": "qJLMoPoxT1vz"
      },
      "execution_count": 12,
      "outputs": []
    },
    {
      "cell_type": "markdown",
      "source": [
        "## **Step 9: Create a Function to Clean Text**"
      ],
      "metadata": {
        "id": "bI8RVLp0UNmx"
      }
    },
    {
      "cell_type": "code",
      "source": [
        "def wordopt (text):\n",
        "  text = text.lower()\n",
        "  text = re.sub ('\\[*?\\]', '', text)\n",
        "  text= re.sub(\"\\\\W\", \" \", text)\n",
        "  text = re.sub('https?://\\S+ |www\\.\\S+', '', text)\n",
        "  text = re.sub('<.*?>+', '', text)\n",
        "  text = re.sub('[%s]' % re.escape(string.punctuation), '', text)\n",
        "  text = re.sub('\\n', '', text)\n",
        "  text = re.sub('\\w\\d\\w*', '', text)\n",
        "  return text"
      ],
      "metadata": {
        "id": "tTQN9FSoUQNV"
      },
      "execution_count": 13,
      "outputs": []
    },
    {
      "cell_type": "markdown",
      "source": [
        "re.escape() : Automatically escaping each space.\n",
        "\n",
        "re.sub() : The Python Regular Expressions (re) module contains the sub() method. All instances of the supplied pattern that match are replaced by the replace string in the returned string. We must import the re-module first before we can utilize this function.\n",
        "\n",
        "string.punctuation : A pre-initialized string called punctuation is utilized as a string constant. Python's string.punctuation function returns all available punctuation"
      ],
      "metadata": {
        "id": "b92JYqONVNFs"
      }
    },
    {
      "cell_type": "markdown",
      "source": [
        "## **Step 10: Applying Function to Text Column and Assigning X and Y**"
      ],
      "metadata": {
        "id": "y5GdqUciVv28"
      }
    },
    {
      "cell_type": "code",
      "source": [
        "data['text'] = data['text'].apply(wordopt) ## applies a function that is provided as input to a whole DataFrame\n",
        "x = data['text']\n",
        "y = data['class']"
      ],
      "metadata": {
        "id": "-y5jhNnLV0Rz"
      },
      "execution_count": 18,
      "outputs": []
    },
    {
      "cell_type": "markdown",
      "source": [
        "## **Step 11: Defining Training and Testing Data and Splitting Them Into &5 -25 Percent Ratio.**"
      ],
      "metadata": {
        "id": "RE0iqInQWU6R"
      }
    },
    {
      "cell_type": "code",
      "source": [
        "x_train, x_test, y_train, y_test = train_test_split(x, y, test_size= 0.25)"
      ],
      "metadata": {
        "id": "lrQT2db8Wbql"
      },
      "execution_count": 19,
      "outputs": []
    },
    {
      "cell_type": "markdown",
      "source": [
        "## **Step 12: Converting Raw Data Into Matrix for Further Process.**"
      ],
      "metadata": {
        "id": "5eZJ1J7AW2bG"
      }
    },
    {
      "cell_type": "code",
      "source": [
        "from sklearn.feature_extraction.text import TfidfVectorizer\n",
        "vectorization = TfidfVectorizer()\n",
        "xv_train = vectorization.fit_transform(x_train)\n",
        "xv_test = vectorization.transform(x_test)"
      ],
      "metadata": {
        "id": "KAi6_T2jW7rp"
      },
      "execution_count": 20,
      "outputs": []
    },
    {
      "cell_type": "markdown",
      "source": [
        "TfidVectorizer : The TfidfVectorizer turns a set of raw documents into a TF-IDF feature matrix.\n",
        "\n",
        "fit_transform : It is used to train data in order to scale it and learn the scaling parameters."
      ],
      "metadata": {
        "id": "8Djrl_Z4XTNa"
      }
    },
    {
      "cell_type": "markdown",
      "source": [
        "## **Step 13: Creating First Model.**"
      ],
      "metadata": {
        "id": "kcbR_RCNXbD_"
      }
    },
    {
      "cell_type": "code",
      "source": [
        "from sklearn.linear_model import LogisticRegression\n",
        "LR = LogisticRegression()\n",
        "LR.fit(xv_train, y_train)"
      ],
      "metadata": {
        "colab": {
          "base_uri": "https://localhost:8080/",
          "height": 74
        },
        "id": "0nqSShclXh96",
        "outputId": "d6d36a22-e886-41ad-c877-2a77d992ce3a"
      },
      "execution_count": 21,
      "outputs": [
        {
          "output_type": "execute_result",
          "data": {
            "text/plain": [
              "LogisticRegression()"
            ],
            "text/html": [
              "<style>#sk-container-id-1 {color: black;background-color: white;}#sk-container-id-1 pre{padding: 0;}#sk-container-id-1 div.sk-toggleable {background-color: white;}#sk-container-id-1 label.sk-toggleable__label {cursor: pointer;display: block;width: 100%;margin-bottom: 0;padding: 0.3em;box-sizing: border-box;text-align: center;}#sk-container-id-1 label.sk-toggleable__label-arrow:before {content: \"▸\";float: left;margin-right: 0.25em;color: #696969;}#sk-container-id-1 label.sk-toggleable__label-arrow:hover:before {color: black;}#sk-container-id-1 div.sk-estimator:hover label.sk-toggleable__label-arrow:before {color: black;}#sk-container-id-1 div.sk-toggleable__content {max-height: 0;max-width: 0;overflow: hidden;text-align: left;background-color: #f0f8ff;}#sk-container-id-1 div.sk-toggleable__content pre {margin: 0.2em;color: black;border-radius: 0.25em;background-color: #f0f8ff;}#sk-container-id-1 input.sk-toggleable__control:checked~div.sk-toggleable__content {max-height: 200px;max-width: 100%;overflow: auto;}#sk-container-id-1 input.sk-toggleable__control:checked~label.sk-toggleable__label-arrow:before {content: \"▾\";}#sk-container-id-1 div.sk-estimator input.sk-toggleable__control:checked~label.sk-toggleable__label {background-color: #d4ebff;}#sk-container-id-1 div.sk-label input.sk-toggleable__control:checked~label.sk-toggleable__label {background-color: #d4ebff;}#sk-container-id-1 input.sk-hidden--visually {border: 0;clip: rect(1px 1px 1px 1px);clip: rect(1px, 1px, 1px, 1px);height: 1px;margin: -1px;overflow: hidden;padding: 0;position: absolute;width: 1px;}#sk-container-id-1 div.sk-estimator {font-family: monospace;background-color: #f0f8ff;border: 1px dotted black;border-radius: 0.25em;box-sizing: border-box;margin-bottom: 0.5em;}#sk-container-id-1 div.sk-estimator:hover {background-color: #d4ebff;}#sk-container-id-1 div.sk-parallel-item::after {content: \"\";width: 100%;border-bottom: 1px solid gray;flex-grow: 1;}#sk-container-id-1 div.sk-label:hover label.sk-toggleable__label {background-color: #d4ebff;}#sk-container-id-1 div.sk-serial::before {content: \"\";position: absolute;border-left: 1px solid gray;box-sizing: border-box;top: 0;bottom: 0;left: 50%;z-index: 0;}#sk-container-id-1 div.sk-serial {display: flex;flex-direction: column;align-items: center;background-color: white;padding-right: 0.2em;padding-left: 0.2em;position: relative;}#sk-container-id-1 div.sk-item {position: relative;z-index: 1;}#sk-container-id-1 div.sk-parallel {display: flex;align-items: stretch;justify-content: center;background-color: white;position: relative;}#sk-container-id-1 div.sk-item::before, #sk-container-id-1 div.sk-parallel-item::before {content: \"\";position: absolute;border-left: 1px solid gray;box-sizing: border-box;top: 0;bottom: 0;left: 50%;z-index: -1;}#sk-container-id-1 div.sk-parallel-item {display: flex;flex-direction: column;z-index: 1;position: relative;background-color: white;}#sk-container-id-1 div.sk-parallel-item:first-child::after {align-self: flex-end;width: 50%;}#sk-container-id-1 div.sk-parallel-item:last-child::after {align-self: flex-start;width: 50%;}#sk-container-id-1 div.sk-parallel-item:only-child::after {width: 0;}#sk-container-id-1 div.sk-dashed-wrapped {border: 1px dashed gray;margin: 0 0.4em 0.5em 0.4em;box-sizing: border-box;padding-bottom: 0.4em;background-color: white;}#sk-container-id-1 div.sk-label label {font-family: monospace;font-weight: bold;display: inline-block;line-height: 1.2em;}#sk-container-id-1 div.sk-label-container {text-align: center;}#sk-container-id-1 div.sk-container {/* jupyter's `normalize.less` sets `[hidden] { display: none; }` but bootstrap.min.css set `[hidden] { display: none !important; }` so we also need the `!important` here to be able to override the default hidden behavior on the sphinx rendered scikit-learn.org. See: https://github.com/scikit-learn/scikit-learn/issues/21755 */display: inline-block !important;position: relative;}#sk-container-id-1 div.sk-text-repr-fallback {display: none;}</style><div id=\"sk-container-id-1\" class=\"sk-top-container\"><div class=\"sk-text-repr-fallback\"><pre>LogisticRegression()</pre><b>In a Jupyter environment, please rerun this cell to show the HTML representation or trust the notebook. <br />On GitHub, the HTML representation is unable to render, please try loading this page with nbviewer.org.</b></div><div class=\"sk-container\" hidden><div class=\"sk-item\"><div class=\"sk-estimator sk-toggleable\"><input class=\"sk-toggleable__control sk-hidden--visually\" id=\"sk-estimator-id-1\" type=\"checkbox\" checked><label for=\"sk-estimator-id-1\" class=\"sk-toggleable__label sk-toggleable__label-arrow\">LogisticRegression</label><div class=\"sk-toggleable__content\"><pre>LogisticRegression()</pre></div></div></div></div></div>"
            ]
          },
          "metadata": {},
          "execution_count": 21
        }
      ]
    },
    {
      "cell_type": "markdown",
      "source": [
        "LogisticRegression : Based on a collection of independent variables, logistic regression assesses the likelihood of an event occurring, such as voting or not voting. Because the outcome is a probability, the dependent variable is limited to values between 0 and 1.\n",
        "\n",
        "LR.fit : Linear regression fits a line to the data in order to predict a new quantity, whereas logistic regression fits a line in order to optimally distinguish the two classes. The input data is given by X with n examples, and the output by y with one output for each input."
      ],
      "metadata": {
        "id": "EGjRTgKlXyHH"
      }
    },
    {
      "cell_type": "markdown",
      "source": [
        "## **Step 14: Checking the Model Accuracy and Classification Report**"
      ],
      "metadata": {
        "id": "VZms6w2AX2EU"
      }
    },
    {
      "cell_type": "code",
      "source": [
        "pred_lr = LR.predict(xv_test)\n",
        "LR.score(xv_test, y_test)\n",
        "print(\"Logistic Regression Model Accuracy: \", accuracy_score(y_test, pred_lr), \"\\n\")\n",
        "print(\"Classification Report: \\n\")\n",
        "print(classification_report(y_test, pred_lr))"
      ],
      "metadata": {
        "colab": {
          "base_uri": "https://localhost:8080/"
        },
        "id": "JF8Ik2jMX672",
        "outputId": "99c25411-9638-48f3-b30b-8c2134ec978c"
      },
      "execution_count": 28,
      "outputs": [
        {
          "output_type": "stream",
          "name": "stdout",
          "text": [
            "Logistic Regression Model Accuracy:  0.9871657754010695 \n",
            "\n",
            "Classification Report: \n",
            "\n",
            "              precision    recall  f1-score   support\n",
            "\n",
            "           0       0.99      0.98      0.99      5870\n",
            "           1       0.98      0.99      0.99      5350\n",
            "\n",
            "    accuracy                           0.99     11220\n",
            "   macro avg       0.99      0.99      0.99     11220\n",
            "weighted avg       0.99      0.99      0.99     11220\n",
            "\n"
          ]
        }
      ]
    },
    {
      "cell_type": "markdown",
      "source": [
        "## **Step 15: Creating a Second Model.**"
      ],
      "metadata": {
        "id": "QNswx66dY97f"
      }
    },
    {
      "cell_type": "code",
      "source": [
        "from sklearn.tree import DecisionTreeClassifier\n",
        "DT = DecisionTreeClassifier()\n",
        "DT.fit(xv_train, y_train)"
      ],
      "metadata": {
        "colab": {
          "base_uri": "https://localhost:8080/",
          "height": 74
        },
        "id": "ncv2KXCLZBCu",
        "outputId": "a5d333dd-bdb5-4e03-c1ef-ae6a53baf68a"
      },
      "execution_count": 29,
      "outputs": [
        {
          "output_type": "execute_result",
          "data": {
            "text/plain": [
              "DecisionTreeClassifier()"
            ],
            "text/html": [
              "<style>#sk-container-id-2 {color: black;background-color: white;}#sk-container-id-2 pre{padding: 0;}#sk-container-id-2 div.sk-toggleable {background-color: white;}#sk-container-id-2 label.sk-toggleable__label {cursor: pointer;display: block;width: 100%;margin-bottom: 0;padding: 0.3em;box-sizing: border-box;text-align: center;}#sk-container-id-2 label.sk-toggleable__label-arrow:before {content: \"▸\";float: left;margin-right: 0.25em;color: #696969;}#sk-container-id-2 label.sk-toggleable__label-arrow:hover:before {color: black;}#sk-container-id-2 div.sk-estimator:hover label.sk-toggleable__label-arrow:before {color: black;}#sk-container-id-2 div.sk-toggleable__content {max-height: 0;max-width: 0;overflow: hidden;text-align: left;background-color: #f0f8ff;}#sk-container-id-2 div.sk-toggleable__content pre {margin: 0.2em;color: black;border-radius: 0.25em;background-color: #f0f8ff;}#sk-container-id-2 input.sk-toggleable__control:checked~div.sk-toggleable__content {max-height: 200px;max-width: 100%;overflow: auto;}#sk-container-id-2 input.sk-toggleable__control:checked~label.sk-toggleable__label-arrow:before {content: \"▾\";}#sk-container-id-2 div.sk-estimator input.sk-toggleable__control:checked~label.sk-toggleable__label {background-color: #d4ebff;}#sk-container-id-2 div.sk-label input.sk-toggleable__control:checked~label.sk-toggleable__label {background-color: #d4ebff;}#sk-container-id-2 input.sk-hidden--visually {border: 0;clip: rect(1px 1px 1px 1px);clip: rect(1px, 1px, 1px, 1px);height: 1px;margin: -1px;overflow: hidden;padding: 0;position: absolute;width: 1px;}#sk-container-id-2 div.sk-estimator {font-family: monospace;background-color: #f0f8ff;border: 1px dotted black;border-radius: 0.25em;box-sizing: border-box;margin-bottom: 0.5em;}#sk-container-id-2 div.sk-estimator:hover {background-color: #d4ebff;}#sk-container-id-2 div.sk-parallel-item::after {content: \"\";width: 100%;border-bottom: 1px solid gray;flex-grow: 1;}#sk-container-id-2 div.sk-label:hover label.sk-toggleable__label {background-color: #d4ebff;}#sk-container-id-2 div.sk-serial::before {content: \"\";position: absolute;border-left: 1px solid gray;box-sizing: border-box;top: 0;bottom: 0;left: 50%;z-index: 0;}#sk-container-id-2 div.sk-serial {display: flex;flex-direction: column;align-items: center;background-color: white;padding-right: 0.2em;padding-left: 0.2em;position: relative;}#sk-container-id-2 div.sk-item {position: relative;z-index: 1;}#sk-container-id-2 div.sk-parallel {display: flex;align-items: stretch;justify-content: center;background-color: white;position: relative;}#sk-container-id-2 div.sk-item::before, #sk-container-id-2 div.sk-parallel-item::before {content: \"\";position: absolute;border-left: 1px solid gray;box-sizing: border-box;top: 0;bottom: 0;left: 50%;z-index: -1;}#sk-container-id-2 div.sk-parallel-item {display: flex;flex-direction: column;z-index: 1;position: relative;background-color: white;}#sk-container-id-2 div.sk-parallel-item:first-child::after {align-self: flex-end;width: 50%;}#sk-container-id-2 div.sk-parallel-item:last-child::after {align-self: flex-start;width: 50%;}#sk-container-id-2 div.sk-parallel-item:only-child::after {width: 0;}#sk-container-id-2 div.sk-dashed-wrapped {border: 1px dashed gray;margin: 0 0.4em 0.5em 0.4em;box-sizing: border-box;padding-bottom: 0.4em;background-color: white;}#sk-container-id-2 div.sk-label label {font-family: monospace;font-weight: bold;display: inline-block;line-height: 1.2em;}#sk-container-id-2 div.sk-label-container {text-align: center;}#sk-container-id-2 div.sk-container {/* jupyter's `normalize.less` sets `[hidden] { display: none; }` but bootstrap.min.css set `[hidden] { display: none !important; }` so we also need the `!important` here to be able to override the default hidden behavior on the sphinx rendered scikit-learn.org. See: https://github.com/scikit-learn/scikit-learn/issues/21755 */display: inline-block !important;position: relative;}#sk-container-id-2 div.sk-text-repr-fallback {display: none;}</style><div id=\"sk-container-id-2\" class=\"sk-top-container\"><div class=\"sk-text-repr-fallback\"><pre>DecisionTreeClassifier()</pre><b>In a Jupyter environment, please rerun this cell to show the HTML representation or trust the notebook. <br />On GitHub, the HTML representation is unable to render, please try loading this page with nbviewer.org.</b></div><div class=\"sk-container\" hidden><div class=\"sk-item\"><div class=\"sk-estimator sk-toggleable\"><input class=\"sk-toggleable__control sk-hidden--visually\" id=\"sk-estimator-id-2\" type=\"checkbox\" checked><label for=\"sk-estimator-id-2\" class=\"sk-toggleable__label sk-toggleable__label-arrow\">DecisionTreeClassifier</label><div class=\"sk-toggleable__content\"><pre>DecisionTreeClassifier()</pre></div></div></div></div></div>"
            ]
          },
          "metadata": {},
          "execution_count": 29
        }
      ]
    },
    {
      "cell_type": "markdown",
      "source": [
        "DecisionTreeClassifier : The DecisionTreeClassifier class may conduct multi-class classification on a dataset. If numerous classes have the same and highest probability, the classifier will forecast the class with the lowest index among those classes."
      ],
      "metadata": {
        "id": "Gi8UjuxxZSd6"
      }
    },
    {
      "cell_type": "markdown",
      "source": [
        "## **Step 16: Checking the Model Accuracy and Classification Report**"
      ],
      "metadata": {
        "id": "jxSBwLJoZVGk"
      }
    },
    {
      "cell_type": "code",
      "source": [
        "pred_dt = DT.predict(xv_test)\n",
        "DT.score (xv_test, y_test)\n",
        "print(\"Decision Tree Model Accuracy: \", accuracy_score(y_test, pred_dt), \"\\n\")\n",
        "print(\"Classification Report: \\n\")\n",
        "print(classification_report (y_test, pred_dt))"
      ],
      "metadata": {
        "colab": {
          "base_uri": "https://localhost:8080/"
        },
        "id": "DM-Jt1UmZcZK",
        "outputId": "01939f10-3e09-44e4-ab1a-338b53d5bff9"
      },
      "execution_count": 33,
      "outputs": [
        {
          "output_type": "stream",
          "name": "stdout",
          "text": [
            "Decision Tree Model Accuracy:  0.9959893048128342 \n",
            "\n",
            "Classification Report: \n",
            "\n",
            "              precision    recall  f1-score   support\n",
            "\n",
            "           0       1.00      1.00      1.00      5870\n",
            "           1       1.00      1.00      1.00      5350\n",
            "\n",
            "    accuracy                           1.00     11220\n",
            "   macro avg       1.00      1.00      1.00     11220\n",
            "weighted avg       1.00      1.00      1.00     11220\n",
            "\n"
          ]
        }
      ]
    },
    {
      "cell_type": "markdown",
      "source": [
        "## **Step 17: Checking Fake News**"
      ],
      "metadata": {
        "id": "tYneol-gZ_fA"
      }
    },
    {
      "cell_type": "code",
      "source": [
        "def output_lable(n):\n",
        "  if n == 0:\n",
        "    return \"Fake News\"\n",
        "  elif n == 1:\n",
        "    return \"Not A Fake News\"\n",
        "\n",
        "def manual_testing(news):\n",
        "  testing_news = {\"text\":[news]}\n",
        "  new_def_test = pd.DataFrame(testing_news)\n",
        "  new_def_test[\"text\"] = new_def_test[\"text\"].apply(wordopt)\n",
        "  new_x_test = new_def_test[\"text\"]\n",
        "  new_xv_test = vectorization.transform(new_x_test)\n",
        "  pred_LR = LR.predict(new_xv_test)\n",
        "  pred_DT = DT.predict(new_xv_test)\n",
        "\n",
        "  return print(\"\\n\\nLR Prediction: {} \\nDT Prediction: {}\".format(output_lable(pred_LR[0]), output_lable(pred_DT[0])))"
      ],
      "metadata": {
        "id": "Pfb0oyinaCdT"
      },
      "execution_count": 38,
      "outputs": []
    },
    {
      "cell_type": "code",
      "source": [
        "news = str(input())\n",
        "manual_testing(news)"
      ],
      "metadata": {
        "colab": {
          "base_uri": "https://localhost:8080/"
        },
        "id": "WtMXiHMEa4HQ",
        "outputId": "a19ef8fc-eca9-41b0-cf53-01aa2440036f"
      },
      "execution_count": 39,
      "outputs": [
        {
          "output_type": "stream",
          "name": "stdout",
          "text": [
            " Pro-Russian users have often repeated the Kremlin's original position that the invasion of Ukraine is a \"special military operation\" to \"denazify\" and \"demilitarise\" a \"Neo-Nazi state\". Many have downpl ayed allegations of Russian war crimes or even claimed that the war is a supposed \"hoax\". In one wid ely shared video, a news reporter could be seen standing in front of lines of body bags, one of which was moving. However, the footage did not show invented war casualties in Ukraine, but a \"Fridays for Future\" climate change protest in Vienna in February, three weeks before the invasion began. Days la ter, another viral video of a mannequin claimed to be proof that Ukrainian authorities had \"staged\" t he mass killing of civilians in the town of Bucha. The misleading clip showed a prosthetic doll bein g dressed and prepared by two men. Nadezhda, an assistant director for a Russian television programm e, confirmed to Euronews that the video showed their film set near St. Petersburg and not Ukrainian m ilitary personnel. \"The information being given [to Russian citizens] is one-sided, it has nothing t o do with reality, it is as badly done as any fake,\" she told Euronews. Euronews The mannequin was b eing prepared for a television scene in Vsevolozhsk in Russia's Leningrad region. Euronews Other examp les of Ukraine war misinformation have centred on \"crisis actors\" people who are supposedly hired t o act out the role of terrified or deceased war victims. One false claim suggested that a well-known beauty blogger had \"acted\" as the pregnant victim of a deadly attack on a maternity hospital in the c ity of Mariupol on 9 March. Russia has shifted its stance on the attack, accusing Ukrainian Azov nat ionalists of staging a \"hoax\" bombing at a \"non-operational\" hospital. Its unfounded claims were late r removed by both Facebook and Twitter.\n",
            "\n",
            "\n",
            "LR Prediction: Fake News \n",
            "DT Prediction: Fake News\n"
          ]
        }
      ]
    }
  ]
}