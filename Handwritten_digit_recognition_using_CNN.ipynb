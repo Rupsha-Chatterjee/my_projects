{
  "nbformat": 4,
  "nbformat_minor": 0,
  "metadata": {
    "colab": {
      "name": "Handwritten digit recognition using CNN.ipynb",
      "provenance": [],
      "collapsed_sections": [],
      "authorship_tag": "ABX9TyMuaAtjbRELU6rYsoa/bRRX",
      "include_colab_link": true
    },
    "kernelspec": {
      "name": "python3",
      "display_name": "Python 3"
    },
    "language_info": {
      "name": "python"
    }
  },
  "cells": [
    {
      "cell_type": "markdown",
      "metadata": {
        "id": "view-in-github",
        "colab_type": "text"
      },
      "source": [
        "<a href=\"https://colab.research.google.com/github/Rupsha-Chatterjee/my_projects/blob/main/Handwritten_digit_recognition_using_CNN.ipynb\" target=\"_parent\"><img src=\"https://colab.research.google.com/assets/colab-badge.svg\" alt=\"Open In Colab\"/></a>"
      ]
    },
    {
      "cell_type": "code",
      "execution_count": 1,
      "metadata": {
        "colab": {
          "base_uri": "https://localhost:8080/"
        },
        "id": "XCIbBFSzDdAg",
        "outputId": "ca523952-4203-4474-c6d0-fa85bc3cf46b"
      },
      "outputs": [
        {
          "output_type": "stream",
          "name": "stdout",
          "text": [
            "3.7.13\n"
          ]
        }
      ],
      "source": [
        "import sys\n",
        "sys.version\n",
        "sys.version_info\n",
        "import platform\n",
        "print(platform.python_version())"
      ]
    },
    {
      "cell_type": "code",
      "source": [
        "import keras\n",
        "import numpy as np\n",
        "import pandas as pd\n",
        "from keras.datasets import mnist\n",
        "from keras.models import Sequential\n",
        "from keras.layers import Dense, Dropout, Flatten, Conv2D, MaxPooling2D\n",
        "from keras import backend as K"
      ],
      "metadata": {
        "id": "jbOXEAbvEILr"
      },
      "execution_count": 2,
      "outputs": []
    },
    {
      "cell_type": "code",
      "source": [
        "np.random.seed(30)"
      ],
      "metadata": {
        "id": "gYZ8F46xFQ-c"
      },
      "execution_count": 3,
      "outputs": []
    },
    {
      "cell_type": "code",
      "source": [
        "(x_train, y_train), (x_test, y_test) = mnist.load_data()"
      ],
      "metadata": {
        "id": "ZLBMSMfJFhb7",
        "colab": {
          "base_uri": "https://localhost:8080/"
        },
        "outputId": "f379bd35-fae1-4901-c3df-f4edeb501bd6"
      },
      "execution_count": 4,
      "outputs": [
        {
          "output_type": "stream",
          "name": "stdout",
          "text": [
            "Downloading data from https://storage.googleapis.com/tensorflow/tf-keras-datasets/mnist.npz\n",
            "11493376/11490434 [==============================] - 0s 0us/step\n",
            "11501568/11490434 [==============================] - 0s 0us/step\n"
          ]
        }
      ]
    },
    {
      "cell_type": "code",
      "source": [
        "print(type(x_train))"
      ],
      "metadata": {
        "colab": {
          "base_uri": "https://localhost:8080/"
        },
        "id": "cF3hlzHCFwDP",
        "outputId": "3d7bc19d-2821-46e3-be92-17e446865be7"
      },
      "execution_count": 5,
      "outputs": [
        {
          "output_type": "stream",
          "name": "stdout",
          "text": [
            "<class 'numpy.ndarray'>\n"
          ]
        }
      ]
    },
    {
      "cell_type": "code",
      "source": [
        "print(x_train.shape)\n",
        "print(x_test.shape)\n",
        "print(y_train.shape)\n",
        "print(y_test.shape)"
      ],
      "metadata": {
        "colab": {
          "base_uri": "https://localhost:8080/"
        },
        "id": "IuIc0hsHLjKX",
        "outputId": "a847edb4-ba17-4e76-c18b-798af3a662a3"
      },
      "execution_count": 6,
      "outputs": [
        {
          "output_type": "stream",
          "name": "stdout",
          "text": [
            "(60000, 28, 28)\n",
            "(10000, 28, 28)\n",
            "(60000,)\n",
            "(10000,)\n"
          ]
        }
      ]
    },
    {
      "cell_type": "code",
      "source": [
        "import matplotlib.pyplot as plt\n",
        "plt.imshow(x_train[6], cmap='gray')\n",
        "plt.show()"
      ],
      "metadata": {
        "colab": {
          "base_uri": "https://localhost:8080/",
          "height": 265
        },
        "id": "D3E79YfoLyyK",
        "outputId": "f1d952d7-ca0c-4f2e-dd6d-0084c899d3ab"
      },
      "execution_count": 7,
      "outputs": [
        {
          "output_type": "display_data",
          "data": {
            "text/plain": [
              "<Figure size 432x288 with 1 Axes>"
            ],
            "image/png": "[encoded data removed]"
          },
          "metadata": {
            "needs_background": "light"
          }
        }
      ]
    },
    {
      "cell_type": "code",
      "source": [
        "#modify the arrays to make it ready for modelling\n",
        "x_train = x_train.reshape(x_train.shape[0], 28, 28, 1)\n",
        "x_test = x_test.reshape(x_test.shape[0], 28, 28, 1)"
      ],
      "metadata": {
        "id": "P-wAkqt1Mhuh"
      },
      "execution_count": 8,
      "outputs": []
    },
    {
      "cell_type": "code",
      "source": [
        "print(x_train.shape)\n",
        "print(x_test.shape)"
      ],
      "metadata": {
        "colab": {
          "base_uri": "https://localhost:8080/"
        },
        "id": "9rCfuHSgNy5o",
        "outputId": "1bad8b7c-9ec6-4226-e8f8-d16754b0fc82"
      },
      "execution_count": 9,
      "outputs": [
        {
          "output_type": "stream",
          "name": "stdout",
          "text": [
            "(60000, 28, 28, 1)\n",
            "(10000, 28, 28, 1)\n"
          ]
        }
      ]
    },
    {
      "cell_type": "code",
      "source": [
        "#normalize the data\n",
        "x_train = x_train/255\n",
        "x_test = x_test/255"
      ],
      "metadata": {
        "id": "an_yetiUN97M"
      },
      "execution_count": 10,
      "outputs": []
    },
    {
      "cell_type": "code",
      "source": [
        "print(x_train.max())\n",
        "print(x_train.min())"
      ],
      "metadata": {
        "colab": {
          "base_uri": "https://localhost:8080/"
        },
        "id": "3j-mWF_fOUIV",
        "outputId": "7ca7f59e-e53b-401d-8a62-6abf08c86c7e"
      },
      "execution_count": 11,
      "outputs": [
        {
          "output_type": "stream",
          "name": "stdout",
          "text": [
            "1.0\n",
            "0.0\n"
          ]
        }
      ]
    },
    {
      "cell_type": "code",
      "source": [
        "#lets fix the labels now\n",
        "y_train[:10]"
      ],
      "metadata": {
        "colab": {
          "base_uri": "https://localhost:8080/"
        },
        "id": "n6LOr9h9Obwv",
        "outputId": "cb144112-ac73-43b0-8124-103b7846e9a2"
      },
      "execution_count": 12,
      "outputs": [
        {
          "output_type": "execute_result",
          "data": {
            "text/plain": [
              "array([5, 0, 4, 1, 9, 2, 1, 3, 1, 4], dtype=uint8)"
            ]
          },
          "metadata": {},
          "execution_count": 12
        }
      ]
    },
    {
      "cell_type": "code",
      "source": [
        "#convert class variable to \"0\" or \"1\" binary class\n",
        "y_train = keras.utils.np_utils.to_categorical(y_train, 10)\n",
        "y_test = keras.utils.np_utils.to_categorical(y_test, 10)"
      ],
      "metadata": {
        "id": "u2S6Ox6fOnPo"
      },
      "execution_count": 13,
      "outputs": []
    },
    {
      "cell_type": "code",
      "source": [
        "y_train[:10]"
      ],
      "metadata": {
        "colab": {
          "base_uri": "https://localhost:8080/"
        },
        "id": "n0aekbNgPnTf",
        "outputId": "42014df5-f9cc-4826-aaf4-e0bb47991793"
      },
      "execution_count": 14,
      "outputs": [
        {
          "output_type": "execute_result",
          "data": {
            "text/plain": [
              "array([[0., 0., 0., 0., 0., 1., 0., 0., 0., 0.],\n",
              "       [1., 0., 0., 0., 0., 0., 0., 0., 0., 0.],\n",
              "       [0., 0., 0., 0., 1., 0., 0., 0., 0., 0.],\n",
              "       [0., 1., 0., 0., 0., 0., 0., 0., 0., 0.],\n",
              "       [0., 0., 0., 0., 0., 0., 0., 0., 0., 1.],\n",
              "       [0., 0., 1., 0., 0., 0., 0., 0., 0., 0.],\n",
              "       [0., 1., 0., 0., 0., 0., 0., 0., 0., 0.],\n",
              "       [0., 0., 0., 1., 0., 0., 0., 0., 0., 0.],\n",
              "       [0., 1., 0., 0., 0., 0., 0., 0., 0., 0.],\n",
              "       [0., 0., 0., 0., 1., 0., 0., 0., 0., 0.]], dtype=float32)"
            ]
          },
          "metadata": {},
          "execution_count": 14
        }
      ]
    },
    {
      "cell_type": "code",
      "source": [
        "model = Sequential()\n",
        "model.add(Conv2D(30, kernel_size=(3,3), activation='relu', input_shape=(28,28,1)))\n",
        "#above is the convolution layer with 30 feature maps with 3*3 kernel\n",
        "model.add(MaxPooling2D(pool_size=(2,2))) #pooling layer\n",
        "model.add(Dropout(0.25))\n",
        "model.add(Flatten())\n",
        "model.add(Dense(128, activation='relu')) #fully connected layer\n",
        "model.add(Dropout(0.5))\n",
        "model.add(Dense(10, activation='softmax')) #output layer\n",
        "\n",
        "model.compile(loss='categorical_crossentropy', optimizer='adam', metrics=['accuracy'])"
      ],
      "metadata": {
        "id": "RfWbpW42Qgtb"
      },
      "execution_count": 15,
      "outputs": []
    },
    {
      "cell_type": "code",
      "source": [
        "#fit the model\n",
        "model.fit(x_train, y_train, validation_data = (x_test, y_test), epochs=15, batch_size=100, verbose=2)"
      ],
      "metadata": {
        "colab": {
          "base_uri": "https://localhost:8080/"
        },
        "id": "IAVEBxqoUlxY",
        "outputId": "e261cd4e-e821-4a1d-f914-9d084e5a9937"
      },
      "execution_count": 16,
      "outputs": [
        {
          "output_type": "stream",
          "name": "stdout",
          "text": [
            "Epoch 1/15\n",
            "600/600 - 37s - loss: 0.3225 - accuracy: 0.9026 - val_loss: 0.0943 - val_accuracy: 0.9692 - 37s/epoch - 62ms/step\n",
            "Epoch 2/15\n",
            "600/600 - 28s - loss: 0.1340 - accuracy: 0.9606 - val_loss: 0.0629 - val_accuracy: 0.9804 - 28s/epoch - 46ms/step\n",
            "Epoch 3/15\n",
            "600/600 - 29s - loss: 0.1033 - accuracy: 0.9690 - val_loss: 0.0521 - val_accuracy: 0.9831 - 29s/epoch - 48ms/step\n",
            "Epoch 4/15\n",
            "600/600 - 28s - loss: 0.0843 - accuracy: 0.9740 - val_loss: 0.0470 - val_accuracy: 0.9846 - 28s/epoch - 47ms/step\n",
            "Epoch 5/15\n",
            "600/600 - 28s - loss: 0.0752 - accuracy: 0.9773 - val_loss: 0.0412 - val_accuracy: 0.9866 - 28s/epoch - 46ms/step\n",
            "Epoch 6/15\n",
            "600/600 - 28s - loss: 0.0670 - accuracy: 0.9792 - val_loss: 0.0395 - val_accuracy: 0.9864 - 28s/epoch - 46ms/step\n",
            "Epoch 7/15\n",
            "600/600 - 29s - loss: 0.0598 - accuracy: 0.9817 - val_loss: 0.0394 - val_accuracy: 0.9863 - 29s/epoch - 48ms/step\n",
            "Epoch 8/15\n",
            "600/600 - 28s - loss: 0.0553 - accuracy: 0.9820 - val_loss: 0.0388 - val_accuracy: 0.9857 - 28s/epoch - 46ms/step\n",
            "Epoch 9/15\n",
            "600/600 - 28s - loss: 0.0520 - accuracy: 0.9832 - val_loss: 0.0339 - val_accuracy: 0.9886 - 28s/epoch - 46ms/step\n",
            "Epoch 10/15\n",
            "600/600 - 27s - loss: 0.0460 - accuracy: 0.9859 - val_loss: 0.0342 - val_accuracy: 0.9891 - 27s/epoch - 46ms/step\n",
            "Epoch 11/15\n",
            "600/600 - 28s - loss: 0.0441 - accuracy: 0.9857 - val_loss: 0.0328 - val_accuracy: 0.9888 - 28s/epoch - 46ms/step\n",
            "Epoch 12/15\n",
            "600/600 - 29s - loss: 0.0404 - accuracy: 0.9870 - val_loss: 0.0336 - val_accuracy: 0.9885 - 29s/epoch - 48ms/step\n",
            "Epoch 13/15\n",
            "600/600 - 28s - loss: 0.0375 - accuracy: 0.9880 - val_loss: 0.0340 - val_accuracy: 0.9883 - 28s/epoch - 46ms/step\n",
            "Epoch 14/15\n",
            "600/600 - 28s - loss: 0.0356 - accuracy: 0.9879 - val_loss: 0.0335 - val_accuracy: 0.9897 - 28s/epoch - 46ms/step\n",
            "Epoch 15/15\n",
            "600/600 - 28s - loss: 0.0336 - accuracy: 0.9887 - val_loss: 0.0349 - val_accuracy: 0.9891 - 28s/epoch - 46ms/step\n"
          ]
        },
        {
          "output_type": "execute_result",
          "data": {
            "text/plain": [
              "<keras.callbacks.History at 0x7ff36b4ca9d0>"
            ]
          },
          "metadata": {},
          "execution_count": 16
        }
      ]
    },
    {
      "cell_type": "code",
      "source": [
        "#final evaluation of the model\n",
        "Accuracy = model.evaluate(x_test, y_test, verbose=0)\n",
        "print(\"CNN Accuracy\")\n",
        "round(Accuracy[1]*100,2) "
      ],
      "metadata": {
        "colab": {
          "base_uri": "https://localhost:8080/"
        },
        "id": "ye1M-se-WFE1",
        "outputId": "da0c2673-8ac3-46a4-b54e-e0ea2846f0c2"
      },
      "execution_count": 17,
      "outputs": [
        {
          "output_type": "stream",
          "name": "stdout",
          "text": [
            "CNN Accuracy\n"
          ]
        },
        {
          "output_type": "execute_result",
          "data": {
            "text/plain": [
              "98.91"
            ]
          },
          "metadata": {},
          "execution_count": 17
        }
      ]
    }
  ]
}